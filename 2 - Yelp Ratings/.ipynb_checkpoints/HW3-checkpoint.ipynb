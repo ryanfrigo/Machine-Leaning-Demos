{
 "cells": [
  {
   "cell_type": "markdown",
   "id": "6bc214b7",
   "metadata": {},
   "source": [
    "# 2ai\n",
    "\n",
    "Given the context of Yelp reviews and restaurant attributes, treating missing values as a separate category can be a reasonable approach for several reasons:\n",
    "\n",
    "- The absence of information can be informative. For example, if a restaurant doesn't specify whether it's \"GoodForKids\" it probably isn't. \n",
    "\n",
    "- With some variables having a large percentage of missing values, removing them observations would lead to a significant loss of data.\n",
    "\n",
    "- Deleting rows with missing values can substantially reduce the sample size and make the data less representative.\n",
    "\n",
    "- The attributes are categorical; therefore, adding a \"Missing\" category doesn't introduce complexity in the way that it would for continuous variables."
   ]
  },
  {
   "cell_type": "markdown",
   "id": "535be929",
   "metadata": {},
   "source": [
    "# 2bi"
   ]
  },
  {
   "cell_type": "code",
   "execution_count": 1,
   "id": "ddbc6c7b",
   "metadata": {},
   "outputs": [],
   "source": [
    "import pandas as pd\n",
    "import statsmodels.api as sm\n",
    "import statsmodels.formula.api as smf"
   ]
  },
  {
   "cell_type": "code",
   "execution_count": 2,
   "id": "45e629b1",
   "metadata": {},
   "outputs": [],
   "source": [
    "train_data = pd.read_csv(\"yelp142_train.csv\")"
   ]
  },
  {
   "cell_type": "code",
   "execution_count": 3,
   "id": "11c7048d",
   "metadata": {},
   "outputs": [
    {
     "data": {
      "text/html": [
       "<div>\n",
       "<style scoped>\n",
       "    .dataframe tbody tr th:only-of-type {\n",
       "        vertical-align: middle;\n",
       "    }\n",
       "\n",
       "    .dataframe tbody tr th {\n",
       "        vertical-align: top;\n",
       "    }\n",
       "\n",
       "    .dataframe thead th {\n",
       "        text-align: right;\n",
       "    }\n",
       "</style>\n",
       "<table border=\"1\" class=\"dataframe\">\n",
       "  <thead>\n",
       "    <tr style=\"text-align: right;\">\n",
       "      <th></th>\n",
       "      <th>stars</th>\n",
       "      <th>review_count</th>\n",
       "      <th>GoodForKids</th>\n",
       "      <th>Alcohol</th>\n",
       "      <th>BusinessAcceptsCreditCards</th>\n",
       "      <th>WiFi</th>\n",
       "      <th>BikeParking</th>\n",
       "      <th>ByAppointmentOnly</th>\n",
       "      <th>WheelechairAccessible</th>\n",
       "      <th>OutdoorSeating</th>\n",
       "      <th>RestaurantsReservations</th>\n",
       "      <th>DogsAllowed</th>\n",
       "      <th>Caters</th>\n",
       "    </tr>\n",
       "  </thead>\n",
       "  <tbody>\n",
       "    <tr>\n",
       "      <th>0</th>\n",
       "      <td>4.5</td>\n",
       "      <td>16</td>\n",
       "      <td>(Missing)</td>\n",
       "      <td>'none'</td>\n",
       "      <td>TRUE</td>\n",
       "      <td>'no'</td>\n",
       "      <td>FALSE</td>\n",
       "      <td>(Missing)</td>\n",
       "      <td>FALSE</td>\n",
       "      <td>FALSE</td>\n",
       "      <td>TRUE</td>\n",
       "      <td>(Missing)</td>\n",
       "      <td>FALSE</td>\n",
       "    </tr>\n",
       "    <tr>\n",
       "      <th>1</th>\n",
       "      <td>3.5</td>\n",
       "      <td>537</td>\n",
       "      <td>TRUE</td>\n",
       "      <td>'beer_and_wine'</td>\n",
       "      <td>TRUE</td>\n",
       "      <td>'no'</td>\n",
       "      <td>TRUE</td>\n",
       "      <td>(Missing)</td>\n",
       "      <td>TRUE</td>\n",
       "      <td>FALSE</td>\n",
       "      <td>TRUE</td>\n",
       "      <td>FALSE</td>\n",
       "      <td>TRUE</td>\n",
       "    </tr>\n",
       "    <tr>\n",
       "      <th>2</th>\n",
       "      <td>3.0</td>\n",
       "      <td>444</td>\n",
       "      <td>TRUE</td>\n",
       "      <td>'full_bar'</td>\n",
       "      <td>TRUE</td>\n",
       "      <td>'no'</td>\n",
       "      <td>TRUE</td>\n",
       "      <td>(Missing)</td>\n",
       "      <td>TRUE</td>\n",
       "      <td>TRUE</td>\n",
       "      <td>TRUE</td>\n",
       "      <td>FALSE</td>\n",
       "      <td>TRUE</td>\n",
       "    </tr>\n",
       "    <tr>\n",
       "      <th>3</th>\n",
       "      <td>3.0</td>\n",
       "      <td>4</td>\n",
       "      <td>(Missing)</td>\n",
       "      <td>(Missing)</td>\n",
       "      <td>(Missing)</td>\n",
       "      <td>(Missing)</td>\n",
       "      <td>(Missing)</td>\n",
       "      <td>(Missing)</td>\n",
       "      <td>(Missing)</td>\n",
       "      <td>(Missing)</td>\n",
       "      <td>(Missing)</td>\n",
       "      <td>(Missing)</td>\n",
       "      <td>(Missing)</td>\n",
       "    </tr>\n",
       "    <tr>\n",
       "      <th>4</th>\n",
       "      <td>5.0</td>\n",
       "      <td>3</td>\n",
       "      <td>(Missing)</td>\n",
       "      <td>(Missing)</td>\n",
       "      <td>TRUE</td>\n",
       "      <td>'no'</td>\n",
       "      <td>(Missing)</td>\n",
       "      <td>(Missing)</td>\n",
       "      <td>TRUE</td>\n",
       "      <td>(Missing)</td>\n",
       "      <td>(Missing)</td>\n",
       "      <td>(Missing)</td>\n",
       "      <td>(Missing)</td>\n",
       "    </tr>\n",
       "  </tbody>\n",
       "</table>\n",
       "</div>"
      ],
      "text/plain": [
       "   stars  review_count GoodForKids          Alcohol  \\\n",
       "0    4.5            16   (Missing)           'none'   \n",
       "1    3.5           537        TRUE  'beer_and_wine'   \n",
       "2    3.0           444        TRUE       'full_bar'   \n",
       "3    3.0             4   (Missing)        (Missing)   \n",
       "4    5.0             3   (Missing)        (Missing)   \n",
       "\n",
       "  BusinessAcceptsCreditCards       WiFi BikeParking ByAppointmentOnly  \\\n",
       "0                       TRUE       'no'       FALSE         (Missing)   \n",
       "1                       TRUE       'no'        TRUE         (Missing)   \n",
       "2                       TRUE       'no'        TRUE         (Missing)   \n",
       "3                  (Missing)  (Missing)   (Missing)         (Missing)   \n",
       "4                       TRUE       'no'   (Missing)         (Missing)   \n",
       "\n",
       "  WheelechairAccessible OutdoorSeating RestaurantsReservations DogsAllowed  \\\n",
       "0                 FALSE          FALSE                    TRUE   (Missing)   \n",
       "1                  TRUE          FALSE                    TRUE       FALSE   \n",
       "2                  TRUE           TRUE                    TRUE       FALSE   \n",
       "3             (Missing)      (Missing)               (Missing)   (Missing)   \n",
       "4                  TRUE      (Missing)               (Missing)   (Missing)   \n",
       "\n",
       "      Caters  \n",
       "0      FALSE  \n",
       "1       TRUE  \n",
       "2       TRUE  \n",
       "3  (Missing)  \n",
       "4  (Missing)  "
      ]
     },
     "execution_count": 3,
     "metadata": {},
     "output_type": "execute_result"
    }
   ],
   "source": [
    "train_data.head()"
   ]
  },
  {
   "cell_type": "code",
   "execution_count": 4,
   "id": "f20c23bc",
   "metadata": {},
   "outputs": [
    {
     "data": {
      "text/html": [
       "<div>\n",
       "<style scoped>\n",
       "    .dataframe tbody tr th:only-of-type {\n",
       "        vertical-align: middle;\n",
       "    }\n",
       "\n",
       "    .dataframe tbody tr th {\n",
       "        vertical-align: top;\n",
       "    }\n",
       "\n",
       "    .dataframe thead th {\n",
       "        text-align: right;\n",
       "    }\n",
       "</style>\n",
       "<table border=\"1\" class=\"dataframe\">\n",
       "  <thead>\n",
       "    <tr style=\"text-align: right;\">\n",
       "      <th></th>\n",
       "      <th>stars</th>\n",
       "      <th>review_count</th>\n",
       "    </tr>\n",
       "  </thead>\n",
       "  <tbody>\n",
       "    <tr>\n",
       "      <th>count</th>\n",
       "      <td>6272.000000</td>\n",
       "      <td>6272.000000</td>\n",
       "    </tr>\n",
       "    <tr>\n",
       "      <th>mean</th>\n",
       "      <td>3.507573</td>\n",
       "      <td>177.484375</td>\n",
       "    </tr>\n",
       "    <tr>\n",
       "      <th>std</th>\n",
       "      <td>0.844079</td>\n",
       "      <td>436.449663</td>\n",
       "    </tr>\n",
       "    <tr>\n",
       "      <th>min</th>\n",
       "      <td>1.000000</td>\n",
       "      <td>3.000000</td>\n",
       "    </tr>\n",
       "    <tr>\n",
       "      <th>25%</th>\n",
       "      <td>3.000000</td>\n",
       "      <td>13.000000</td>\n",
       "    </tr>\n",
       "    <tr>\n",
       "      <th>50%</th>\n",
       "      <td>3.500000</td>\n",
       "      <td>48.000000</td>\n",
       "    </tr>\n",
       "    <tr>\n",
       "      <th>75%</th>\n",
       "      <td>4.000000</td>\n",
       "      <td>159.000000</td>\n",
       "    </tr>\n",
       "    <tr>\n",
       "      <th>max</th>\n",
       "      <td>5.000000</td>\n",
       "      <td>10129.000000</td>\n",
       "    </tr>\n",
       "  </tbody>\n",
       "</table>\n",
       "</div>"
      ],
      "text/plain": [
       "             stars  review_count\n",
       "count  6272.000000   6272.000000\n",
       "mean      3.507573    177.484375\n",
       "std       0.844079    436.449663\n",
       "min       1.000000      3.000000\n",
       "25%       3.000000     13.000000\n",
       "50%       3.500000     48.000000\n",
       "75%       4.000000    159.000000\n",
       "max       5.000000  10129.000000"
      ]
     },
     "execution_count": 4,
     "metadata": {},
     "output_type": "execute_result"
    }
   ],
   "source": [
    "train_data.describe()"
   ]
  },
  {
   "cell_type": "code",
   "execution_count": 5,
   "id": "7052614e",
   "metadata": {},
   "outputs": [],
   "source": [
    "# Replace '(Missing)' with 'Missing' to avoid syntax issues in the formula\n",
    "train_data.replace('(Missing)', 'Missing', inplace=True)"
   ]
  },
  {
   "cell_type": "code",
   "execution_count": 6,
   "id": "e78bb570",
   "metadata": {},
   "outputs": [],
   "source": [
    "# Define the formula for the linear regression model\n",
    "formula = '''\n",
    "stars ~ review_count + \n",
    "         C(GoodForKids, Treatment(reference='Missing')) + \n",
    "         C(Alcohol, Treatment(reference='Missing')) + \n",
    "         C(BusinessAcceptsCreditCards, Treatment(reference='Missing')) + \n",
    "         C(WiFi, Treatment(reference='Missing')) + \n",
    "         C(BikeParking, Treatment(reference='Missing')) + \n",
    "         C(ByAppointmentOnly, Treatment(reference='Missing')) + \n",
    "         C(WheelechairAccessible, Treatment(reference='Missing')) + \n",
    "         C(OutdoorSeating, Treatment(reference='Missing')) + \n",
    "         C(RestaurantsReservations, Treatment(reference='Missing')) + \n",
    "         C(DogsAllowed, Treatment(reference='Missing')) + \n",
    "         C(Caters, Treatment(reference='Missing'))\n",
    "'''"
   ]
  },
  {
   "cell_type": "code",
   "execution_count": 7,
   "id": "d9d13e90",
   "metadata": {},
   "outputs": [
    {
     "data": {
      "text/html": [
       "<table class=\"simpletable\">\n",
       "<caption>OLS Regression Results</caption>\n",
       "<tr>\n",
       "  <th>Dep. Variable:</th>          <td>stars</td>      <th>  R-squared:         </th> <td>   0.173</td> \n",
       "</tr>\n",
       "<tr>\n",
       "  <th>Model:</th>                   <td>OLS</td>       <th>  Adj. R-squared:    </th> <td>   0.170</td> \n",
       "</tr>\n",
       "<tr>\n",
       "  <th>Method:</th>             <td>Least Squares</td>  <th>  F-statistic:       </th> <td>   52.38</td> \n",
       "</tr>\n",
       "<tr>\n",
       "  <th>Date:</th>             <td>Thu, 12 Oct 2023</td> <th>  Prob (F-statistic):</th> <td>1.46e-235</td>\n",
       "</tr>\n",
       "<tr>\n",
       "  <th>Time:</th>                 <td>10:58:11</td>     <th>  Log-Likelihood:    </th> <td> -7239.0</td> \n",
       "</tr>\n",
       "<tr>\n",
       "  <th>No. Observations:</th>      <td>  6272</td>      <th>  AIC:               </th> <td>1.453e+04</td>\n",
       "</tr>\n",
       "<tr>\n",
       "  <th>Df Residuals:</th>          <td>  6246</td>      <th>  BIC:               </th> <td>1.471e+04</td>\n",
       "</tr>\n",
       "<tr>\n",
       "  <th>Df Model:</th>              <td>    25</td>      <th>                     </th>     <td> </td>    \n",
       "</tr>\n",
       "<tr>\n",
       "  <th>Covariance Type:</th>      <td>nonrobust</td>    <th>                     </th>     <td> </td>    \n",
       "</tr>\n",
       "</table>\n",
       "<table class=\"simpletable\">\n",
       "<tr>\n",
       "                                     <td></td>                                       <th>coef</th>     <th>std err</th>      <th>t</th>      <th>P>|t|</th>  <th>[0.025</th>    <th>0.975]</th>  \n",
       "</tr>\n",
       "<tr>\n",
       "  <th>Intercept</th>                                                              <td>    3.4062</td> <td>    0.040</td> <td>   84.470</td> <td> 0.000</td> <td>    3.327</td> <td>    3.485</td>\n",
       "</tr>\n",
       "<tr>\n",
       "  <th>C(GoodForKids, Treatment(reference='Missing'))[T.FALSE]</th>                <td>    0.0196</td> <td>    0.045</td> <td>    0.434</td> <td> 0.664</td> <td>   -0.069</td> <td>    0.108</td>\n",
       "</tr>\n",
       "<tr>\n",
       "  <th>C(GoodForKids, Treatment(reference='Missing'))[T.TRUE]</th>                 <td>   -0.0966</td> <td>    0.035</td> <td>   -2.759</td> <td> 0.006</td> <td>   -0.165</td> <td>   -0.028</td>\n",
       "</tr>\n",
       "<tr>\n",
       "  <th>C(Alcohol, Treatment(reference='Missing'))[T.'beer_and_wine']</th>          <td>    0.2451</td> <td>    0.048</td> <td>    5.129</td> <td> 0.000</td> <td>    0.151</td> <td>    0.339</td>\n",
       "</tr>\n",
       "<tr>\n",
       "  <th>C(Alcohol, Treatment(reference='Missing'))[T.'full_bar']</th>               <td>    0.1200</td> <td>    0.044</td> <td>    2.732</td> <td> 0.006</td> <td>    0.034</td> <td>    0.206</td>\n",
       "</tr>\n",
       "<tr>\n",
       "  <th>C(Alcohol, Treatment(reference='Missing'))[T.'none']</th>                   <td>    0.1211</td> <td>    0.040</td> <td>    3.046</td> <td> 0.002</td> <td>    0.043</td> <td>    0.199</td>\n",
       "</tr>\n",
       "<tr>\n",
       "  <th>C(BusinessAcceptsCreditCards, Treatment(reference='Missing'))[T.FALSE]</th> <td>    0.4796</td> <td>    0.090</td> <td>    5.318</td> <td> 0.000</td> <td>    0.303</td> <td>    0.656</td>\n",
       "</tr>\n",
       "<tr>\n",
       "  <th>C(BusinessAcceptsCreditCards, Treatment(reference='Missing'))[T.TRUE]</th>  <td>    0.0513</td> <td>    0.047</td> <td>    1.089</td> <td> 0.276</td> <td>   -0.041</td> <td>    0.144</td>\n",
       "</tr>\n",
       "<tr>\n",
       "  <th>C(WiFi, Treatment(reference='Missing'))[T.'free']</th>                      <td>    0.1519</td> <td>    0.034</td> <td>    4.438</td> <td> 0.000</td> <td>    0.085</td> <td>    0.219</td>\n",
       "</tr>\n",
       "<tr>\n",
       "  <th>C(WiFi, Treatment(reference='Missing'))[T.'no']</th>                        <td>    0.1468</td> <td>    0.033</td> <td>    4.442</td> <td> 0.000</td> <td>    0.082</td> <td>    0.212</td>\n",
       "</tr>\n",
       "<tr>\n",
       "  <th>C(WiFi, Treatment(reference='Missing'))[T.'paid']</th>                      <td>   -0.2846</td> <td>    0.110</td> <td>   -2.581</td> <td> 0.010</td> <td>   -0.501</td> <td>   -0.068</td>\n",
       "</tr>\n",
       "<tr>\n",
       "  <th>C(BikeParking, Treatment(reference='Missing'))[T.FALSE]</th>                <td>   -0.2009</td> <td>    0.032</td> <td>   -6.284</td> <td> 0.000</td> <td>   -0.264</td> <td>   -0.138</td>\n",
       "</tr>\n",
       "<tr>\n",
       "  <th>C(BikeParking, Treatment(reference='Missing'))[T.TRUE]</th>                 <td>   -0.1200</td> <td>    0.029</td> <td>   -4.177</td> <td> 0.000</td> <td>   -0.176</td> <td>   -0.064</td>\n",
       "</tr>\n",
       "<tr>\n",
       "  <th>C(ByAppointmentOnly, Treatment(reference='Missing'))[T.FALSE]</th>          <td>    0.1270</td> <td>    0.033</td> <td>    3.797</td> <td> 0.000</td> <td>    0.061</td> <td>    0.193</td>\n",
       "</tr>\n",
       "<tr>\n",
       "  <th>C(ByAppointmentOnly, Treatment(reference='Missing'))[T.TRUE]</th>           <td>    0.2601</td> <td>    0.098</td> <td>    2.667</td> <td> 0.008</td> <td>    0.069</td> <td>    0.451</td>\n",
       "</tr>\n",
       "<tr>\n",
       "  <th>C(WheelechairAccessible, Treatment(reference='Missing'))[T.FALSE]</th>      <td>    0.7377</td> <td>    0.092</td> <td>    8.011</td> <td> 0.000</td> <td>    0.557</td> <td>    0.918</td>\n",
       "</tr>\n",
       "<tr>\n",
       "  <th>C(WheelechairAccessible, Treatment(reference='Missing'))[T.TRUE]</th>       <td>    0.3651</td> <td>    0.027</td> <td>   13.284</td> <td> 0.000</td> <td>    0.311</td> <td>    0.419</td>\n",
       "</tr>\n",
       "<tr>\n",
       "  <th>C(OutdoorSeating, Treatment(reference='Missing'))[T.FALSE]</th>             <td>   -0.1359</td> <td>    0.040</td> <td>   -3.389</td> <td> 0.001</td> <td>   -0.215</td> <td>   -0.057</td>\n",
       "</tr>\n",
       "<tr>\n",
       "  <th>C(OutdoorSeating, Treatment(reference='Missing'))[T.TRUE]</th>              <td>   -0.0253</td> <td>    0.043</td> <td>   -0.591</td> <td> 0.555</td> <td>   -0.109</td> <td>    0.059</td>\n",
       "</tr>\n",
       "<tr>\n",
       "  <th>C(RestaurantsReservations, Treatment(reference='Missing'))[T.FALSE]</th>    <td>   -0.2205</td> <td>    0.041</td> <td>   -5.396</td> <td> 0.000</td> <td>   -0.301</td> <td>   -0.140</td>\n",
       "</tr>\n",
       "<tr>\n",
       "  <th>C(RestaurantsReservations, Treatment(reference='Missing'))[T.TRUE]</th>     <td>   -0.0077</td> <td>    0.045</td> <td>   -0.169</td> <td> 0.866</td> <td>   -0.096</td> <td>    0.081</td>\n",
       "</tr>\n",
       "<tr>\n",
       "  <th>C(DogsAllowed, Treatment(reference='Missing'))[T.FALSE]</th>                <td>    0.2571</td> <td>    0.029</td> <td>    8.874</td> <td> 0.000</td> <td>    0.200</td> <td>    0.314</td>\n",
       "</tr>\n",
       "<tr>\n",
       "  <th>C(DogsAllowed, Treatment(reference='Missing'))[T.TRUE]</th>                 <td>    0.1737</td> <td>    0.054</td> <td>    3.189</td> <td> 0.001</td> <td>    0.067</td> <td>    0.280</td>\n",
       "</tr>\n",
       "<tr>\n",
       "  <th>C(Caters, Treatment(reference='Missing'))[T.FALSE]</th>                     <td>   -0.1250</td> <td>    0.030</td> <td>   -4.137</td> <td> 0.000</td> <td>   -0.184</td> <td>   -0.066</td>\n",
       "</tr>\n",
       "<tr>\n",
       "  <th>C(Caters, Treatment(reference='Missing'))[T.TRUE]</th>                      <td>    0.1057</td> <td>    0.033</td> <td>    3.233</td> <td> 0.001</td> <td>    0.042</td> <td>    0.170</td>\n",
       "</tr>\n",
       "<tr>\n",
       "  <th>review_count</th>                                                           <td> 8.689e-05</td> <td> 2.59e-05</td> <td>    3.359</td> <td> 0.001</td> <td> 3.62e-05</td> <td>    0.000</td>\n",
       "</tr>\n",
       "</table>\n",
       "<table class=\"simpletable\">\n",
       "<tr>\n",
       "  <th>Omnibus:</th>       <td>124.334</td> <th>  Durbin-Watson:     </th> <td>   2.010</td>\n",
       "</tr>\n",
       "<tr>\n",
       "  <th>Prob(Omnibus):</th> <td> 0.000</td>  <th>  Jarque-Bera (JB):  </th> <td> 131.562</td>\n",
       "</tr>\n",
       "<tr>\n",
       "  <th>Skew:</th>          <td>-0.355</td>  <th>  Prob(JB):          </th> <td>2.70e-29</td>\n",
       "</tr>\n",
       "<tr>\n",
       "  <th>Kurtosis:</th>      <td> 2.979</td>  <th>  Cond. No.          </th> <td>5.40e+03</td>\n",
       "</tr>\n",
       "</table><br/><br/>Notes:<br/>[1] Standard Errors assume that the covariance matrix of the errors is correctly specified.<br/>[2] The condition number is large, 5.4e+03. This might indicate that there are<br/>strong multicollinearity or other numerical problems."
      ],
      "text/plain": [
       "<class 'statsmodels.iolib.summary.Summary'>\n",
       "\"\"\"\n",
       "                            OLS Regression Results                            \n",
       "==============================================================================\n",
       "Dep. Variable:                  stars   R-squared:                       0.173\n",
       "Model:                            OLS   Adj. R-squared:                  0.170\n",
       "Method:                 Least Squares   F-statistic:                     52.38\n",
       "Date:                Thu, 12 Oct 2023   Prob (F-statistic):          1.46e-235\n",
       "Time:                        10:58:11   Log-Likelihood:                -7239.0\n",
       "No. Observations:                6272   AIC:                         1.453e+04\n",
       "Df Residuals:                    6246   BIC:                         1.471e+04\n",
       "Df Model:                          25                                         \n",
       "Covariance Type:            nonrobust                                         \n",
       "==========================================================================================================================================\n",
       "                                                                             coef    std err          t      P>|t|      [0.025      0.975]\n",
       "------------------------------------------------------------------------------------------------------------------------------------------\n",
       "Intercept                                                                  3.4062      0.040     84.470      0.000       3.327       3.485\n",
       "C(GoodForKids, Treatment(reference='Missing'))[T.FALSE]                    0.0196      0.045      0.434      0.664      -0.069       0.108\n",
       "C(GoodForKids, Treatment(reference='Missing'))[T.TRUE]                    -0.0966      0.035     -2.759      0.006      -0.165      -0.028\n",
       "C(Alcohol, Treatment(reference='Missing'))[T.'beer_and_wine']              0.2451      0.048      5.129      0.000       0.151       0.339\n",
       "C(Alcohol, Treatment(reference='Missing'))[T.'full_bar']                   0.1200      0.044      2.732      0.006       0.034       0.206\n",
       "C(Alcohol, Treatment(reference='Missing'))[T.'none']                       0.1211      0.040      3.046      0.002       0.043       0.199\n",
       "C(BusinessAcceptsCreditCards, Treatment(reference='Missing'))[T.FALSE]     0.4796      0.090      5.318      0.000       0.303       0.656\n",
       "C(BusinessAcceptsCreditCards, Treatment(reference='Missing'))[T.TRUE]      0.0513      0.047      1.089      0.276      -0.041       0.144\n",
       "C(WiFi, Treatment(reference='Missing'))[T.'free']                          0.1519      0.034      4.438      0.000       0.085       0.219\n",
       "C(WiFi, Treatment(reference='Missing'))[T.'no']                            0.1468      0.033      4.442      0.000       0.082       0.212\n",
       "C(WiFi, Treatment(reference='Missing'))[T.'paid']                         -0.2846      0.110     -2.581      0.010      -0.501      -0.068\n",
       "C(BikeParking, Treatment(reference='Missing'))[T.FALSE]                   -0.2009      0.032     -6.284      0.000      -0.264      -0.138\n",
       "C(BikeParking, Treatment(reference='Missing'))[T.TRUE]                    -0.1200      0.029     -4.177      0.000      -0.176      -0.064\n",
       "C(ByAppointmentOnly, Treatment(reference='Missing'))[T.FALSE]              0.1270      0.033      3.797      0.000       0.061       0.193\n",
       "C(ByAppointmentOnly, Treatment(reference='Missing'))[T.TRUE]               0.2601      0.098      2.667      0.008       0.069       0.451\n",
       "C(WheelechairAccessible, Treatment(reference='Missing'))[T.FALSE]          0.7377      0.092      8.011      0.000       0.557       0.918\n",
       "C(WheelechairAccessible, Treatment(reference='Missing'))[T.TRUE]           0.3651      0.027     13.284      0.000       0.311       0.419\n",
       "C(OutdoorSeating, Treatment(reference='Missing'))[T.FALSE]                -0.1359      0.040     -3.389      0.001      -0.215      -0.057\n",
       "C(OutdoorSeating, Treatment(reference='Missing'))[T.TRUE]                 -0.0253      0.043     -0.591      0.555      -0.109       0.059\n",
       "C(RestaurantsReservations, Treatment(reference='Missing'))[T.FALSE]       -0.2205      0.041     -5.396      0.000      -0.301      -0.140\n",
       "C(RestaurantsReservations, Treatment(reference='Missing'))[T.TRUE]        -0.0077      0.045     -0.169      0.866      -0.096       0.081\n",
       "C(DogsAllowed, Treatment(reference='Missing'))[T.FALSE]                    0.2571      0.029      8.874      0.000       0.200       0.314\n",
       "C(DogsAllowed, Treatment(reference='Missing'))[T.TRUE]                     0.1737      0.054      3.189      0.001       0.067       0.280\n",
       "C(Caters, Treatment(reference='Missing'))[T.FALSE]                        -0.1250      0.030     -4.137      0.000      -0.184      -0.066\n",
       "C(Caters, Treatment(reference='Missing'))[T.TRUE]                          0.1057      0.033      3.233      0.001       0.042       0.170\n",
       "review_count                                                            8.689e-05   2.59e-05      3.359      0.001    3.62e-05       0.000\n",
       "==============================================================================\n",
       "Omnibus:                      124.334   Durbin-Watson:                   2.010\n",
       "Prob(Omnibus):                  0.000   Jarque-Bera (JB):              131.562\n",
       "Skew:                          -0.355   Prob(JB):                     2.70e-29\n",
       "Kurtosis:                       2.979   Cond. No.                     5.40e+03\n",
       "==============================================================================\n",
       "\n",
       "Notes:\n",
       "[1] Standard Errors assume that the covariance matrix of the errors is correctly specified.\n",
       "[2] The condition number is large, 5.4e+03. This might indicate that there are\n",
       "strong multicollinearity or other numerical problems.\n",
       "\"\"\""
      ]
     },
     "execution_count": 7,
     "metadata": {},
     "output_type": "execute_result"
    }
   ],
   "source": [
    "# Fit the linear regression model\n",
    "linear_model = smf.ols(formula=formula, data=train_data).fit()\n",
    "linear_model.summary()"
   ]
  },
  {
   "cell_type": "markdown",
   "id": "8fe1101c",
   "metadata": {},
   "source": [
    "# 2bii"
   ]
  },
  {
   "cell_type": "code",
   "execution_count": 8,
   "id": "e9cc0ad6",
   "metadata": {},
   "outputs": [],
   "source": [
    "from sklearn.model_selection import GridSearchCV\n",
    "from sklearn.tree import DecisionTreeRegressor\n",
    "from sklearn.preprocessing import LabelEncoder\n",
    "from sklearn.metrics import mean_squared_error\n",
    "import numpy as np"
   ]
  },
  {
   "cell_type": "code",
   "execution_count": 9,
   "id": "a5765670",
   "metadata": {},
   "outputs": [],
   "source": [
    "# Label encode categorical variables\n",
    "label_cols = train_data.select_dtypes(include=['object']).columns\n",
    "train_data_encoded = train_data.copy()\n",
    "for col in label_cols:\n",
    "    label_encoder = LabelEncoder()\n",
    "    train_data_encoded[col] = label_encoder.fit_transform(train_data[col])"
   ]
  },
  {
   "cell_type": "code",
   "execution_count": 10,
   "id": "cf7e5a91",
   "metadata": {},
   "outputs": [],
   "source": [
    "# Split features and target variable\n",
    "X_train = train_data_encoded.drop('stars', axis=1)\n",
    "y_train = train_data_encoded['stars']"
   ]
  },
  {
   "cell_type": "code",
   "execution_count": 11,
   "id": "4e34f2dd",
   "metadata": {},
   "outputs": [
    {
     "data": {
      "text/plain": [
       "GridSearchCV(cv=5, estimator=DecisionTreeRegressor(random_state=42),\n",
       "             param_grid={'ccp_alpha': array([0.        , 0.00102041, 0.00204082, 0.00306122, 0.00408163,\n",
       "       0.00510204, 0.00612245, 0.00714286, 0.00816327, 0.00918367,\n",
       "       0.01020408, 0.01122449, 0.0122449 , 0.01326531, 0.01428571,\n",
       "       0.01530612, 0.01632653, 0.01734694, 0.01836735, 0.01938776,\n",
       "       0.02040816, 0.02142857, 0.02244898, 0.02346939, 0.0244898 ,\n",
       "       0.0255102 , 0.02653061, 0.02755102, 0.02857143, 0.02959184,\n",
       "       0.03061224, 0.03163265, 0.03265306, 0.03367347, 0.03469388,\n",
       "       0.03571429, 0.03673469, 0.0377551 , 0.03877551, 0.03979592,\n",
       "       0.04081633, 0.04183673, 0.04285714, 0.04387755, 0.04489796,\n",
       "       0.04591837, 0.04693878, 0.04795918, 0.04897959, 0.05      ])},\n",
       "             scoring='neg_mean_squared_error')"
      ]
     },
     "execution_count": 11,
     "metadata": {},
     "output_type": "execute_result"
    }
   ],
   "source": [
    "# Define a range of ccp_alpha values for cross-validation\n",
    "param_grid = {'ccp_alpha': np.linspace(0, 0.05, 50)}\n",
    "\n",
    "# Initialize DecisionTreeRegressor and GridSearchCV\n",
    "tree_reg = DecisionTreeRegressor(random_state=42)\n",
    "grid_search = GridSearchCV(tree_reg, param_grid, cv=5, scoring='neg_mean_squared_error')\n",
    "\n",
    "# Fit the model and find optimal ccp_alpha\n",
    "grid_search.fit(X_train, y_train)"
   ]
  },
  {
   "cell_type": "code",
   "execution_count": 12,
   "id": "33253475",
   "metadata": {},
   "outputs": [
    {
     "data": {
      "text/plain": [
       "(0.0010204081632653062, 0.5865307022842685)"
      ]
     },
     "execution_count": 12,
     "metadata": {},
     "output_type": "execute_result"
    }
   ],
   "source": [
    "# Extract the best ccp_alpha value and the corresponding mean test score (MSE)\n",
    "best_ccp_alpha = grid_search.best_params_['ccp_alpha']\n",
    "best_score = -grid_search.best_score_\n",
    "\n",
    "best_ccp_alpha, best_score"
   ]
  },
  {
   "cell_type": "markdown",
   "id": "65b09591",
   "metadata": {},
   "source": [
    "After running a 5-fold cross-validation with a range of ccp_alpha values, it turns out that the best ccp_alpha value is approximately \n",
    "0.00102. This value gave us the lowest mean squared error (MSE) of about 0.587.\n",
    "\n",
    "ccp_alpha: This is the complexity parameter. A smaller value means a more complex tree, while a larger value simplifies the tree. Here, 0.00102 seems to be the sweet spot for balancing complexity and performance.\n",
    "\n",
    "MSE: The mean squared error is a measure of how well the model predicts the actual ratings. Lower is better, and our lowest was 0.587 during cross-validation."
   ]
  },
  {
   "cell_type": "code",
   "execution_count": 13,
   "id": "da2f876f",
   "metadata": {},
   "outputs": [
    {
     "data": {
      "text/plain": [
       "0.7419532501608984"
      ]
     },
     "execution_count": 13,
     "metadata": {},
     "output_type": "execute_result"
    }
   ],
   "source": [
    "from sklearn.tree import DecisionTreeRegressor\n",
    "\n",
    "# Initialize and train the final DecisionTreeRegressor model using the best ccp_alpha value\n",
    "final_tree_reg = DecisionTreeRegressor(ccp_alpha=best_ccp_alpha, random_state=42)\n",
    "final_tree_reg.fit(X_train, y_train)\n",
    "\n",
    "# Evaluate the model's performance on the training data\n",
    "train_predictions = final_tree_reg.predict(X_train)\n",
    "train_mse = mean_squared_error(y_train, train_predictions)\n",
    "train_rmse = np.sqrt(train_mse)\n",
    "\n",
    "train_rmse\n"
   ]
  },
  {
   "cell_type": "markdown",
   "id": "eae409dd",
   "metadata": {},
   "source": [
    "This model is, on average, .74 stars off from the actual Yelp rating. "
   ]
  },
  {
   "cell_type": "markdown",
   "id": "04f8cfcd",
   "metadata": {},
   "source": [
    "# 2biii"
   ]
  },
  {
   "cell_type": "code",
   "execution_count": 14,
   "id": "0c48b13a",
   "metadata": {},
   "outputs": [],
   "source": [
    "from sklearn.metrics import mean_absolute_error, r2_score\n",
    "\n",
    "# Load the test dataset\n",
    "test_data = pd.read_csv(\"yelp142_test.csv\")\n",
    "\n",
    "# Replace '(Missing)' with 'Missing' to avoid syntax issues in the formula (for linear model)\n",
    "test_data.replace('(Missing)', 'Missing', inplace=True)\n",
    "\n",
    "# Label encode categorical variables (for tree model)\n",
    "test_data_encoded = test_data.copy()\n",
    "for col in label_cols:\n",
    "    label_encoder = LabelEncoder()\n",
    "    test_data_encoded[col] = label_encoder.fit_transform(test_data[col])\n",
    "\n"
   ]
  },
  {
   "cell_type": "code",
   "execution_count": 15,
   "id": "7440a3b4",
   "metadata": {},
   "outputs": [
    {
     "data": {
      "text/plain": [
       "(0.6259556143398648,\n",
       " 0.14799036086871165,\n",
       " 0.6225470461811462,\n",
       " 0.14854133065138486)"
      ]
     },
     "execution_count": 15,
     "metadata": {},
     "output_type": "execute_result"
    }
   ],
   "source": [
    "# Split features and target variable\n",
    "X_test = test_data_encoded.drop('stars', axis=1)\n",
    "y_test = test_data_encoded['stars']\n",
    "\n",
    "# Linear model predictions and metrics\n",
    "linear_predictions = linear_model.predict(test_data)\n",
    "linear_mae = mean_absolute_error(y_test, linear_predictions)\n",
    "linear_osr2 = r2_score(y_test, linear_predictions)\n",
    "\n",
    "# Regression tree predictions and metrics\n",
    "tree_predictions = final_tree_reg.predict(X_test)\n",
    "tree_mae = mean_absolute_error(y_test, tree_predictions)\n",
    "tree_osr2 = r2_score(y_test, tree_predictions)\n",
    "\n",
    "linear_mae, linear_osr2, tree_mae, tree_osr2"
   ]
  },
  {
   "cell_type": "markdown",
   "id": "68830dc7",
   "metadata": {},
   "source": [
    "- **MAE**: Both models have a similar MAE, around \\(0.62\\) to \\(0.63\\), which means on average, their predictions are about \\(0.62\\) to \\(0.63\\) stars off from the actual Yelp ratings. Considering the ratings range from 1 to 5 stars, that's not too bad.\n",
    "\n",
    "- **OSR2**: The OSR2 values are also quite close, around \\(0.148\\) for the linear model and \\(0.149\\) for the tree model. These aren't particularly high numbers, indicating that there's a lot of variance in Yelp ratings that these models aren't capturing.\n",
    "\n",
    "#### Judging Performance:\n",
    "Both models are pretty comparable in terms of MAE and OSR2. Neither is doing great, but they both have some predictive value too.\n",
    "\n",
    "If I had to pick one over the other, the decision might come down to other factors like interpretability or computational cost."
   ]
  },
  {
   "cell_type": "markdown",
   "id": "d88135e0",
   "metadata": {},
   "source": [
    "# 2ci"
   ]
  },
  {
   "cell_type": "code",
   "execution_count": 16,
   "id": "4f9df353",
   "metadata": {},
   "outputs": [
    {
     "data": {
      "text/html": [
       "<div>\n",
       "<style scoped>\n",
       "    .dataframe tbody tr th:only-of-type {\n",
       "        vertical-align: middle;\n",
       "    }\n",
       "\n",
       "    .dataframe tbody tr th {\n",
       "        vertical-align: top;\n",
       "    }\n",
       "\n",
       "    .dataframe thead th {\n",
       "        text-align: right;\n",
       "    }\n",
       "</style>\n",
       "<table border=\"1\" class=\"dataframe\">\n",
       "  <thead>\n",
       "    <tr style=\"text-align: right;\">\n",
       "      <th></th>\n",
       "      <th>stars</th>\n",
       "      <th>fourOrAbove</th>\n",
       "    </tr>\n",
       "  </thead>\n",
       "  <tbody>\n",
       "    <tr>\n",
       "      <th>0</th>\n",
       "      <td>4.5</td>\n",
       "      <td>1</td>\n",
       "    </tr>\n",
       "    <tr>\n",
       "      <th>1</th>\n",
       "      <td>3.5</td>\n",
       "      <td>0</td>\n",
       "    </tr>\n",
       "    <tr>\n",
       "      <th>2</th>\n",
       "      <td>3.0</td>\n",
       "      <td>0</td>\n",
       "    </tr>\n",
       "    <tr>\n",
       "      <th>3</th>\n",
       "      <td>3.0</td>\n",
       "      <td>0</td>\n",
       "    </tr>\n",
       "    <tr>\n",
       "      <th>4</th>\n",
       "      <td>5.0</td>\n",
       "      <td>1</td>\n",
       "    </tr>\n",
       "  </tbody>\n",
       "</table>\n",
       "</div>"
      ],
      "text/plain": [
       "   stars  fourOrAbove\n",
       "0    4.5            1\n",
       "1    3.5            0\n",
       "2    3.0            0\n",
       "3    3.0            0\n",
       "4    5.0            1"
      ]
     },
     "execution_count": 16,
     "metadata": {},
     "output_type": "execute_result"
    }
   ],
   "source": [
    "# Create a new variable 'fourOrAbove' in both the training and test datasets\n",
    "train_data['fourOrAbove'] = (train_data['stars'] >= 4).astype(int)\n",
    "test_data['fourOrAbove'] = (test_data['stars'] >= 4).astype(int)\n",
    "\n",
    "# Show the first few rows of the updated training data to confirm the new variable has been added\n",
    "train_data[['stars', 'fourOrAbove']].head()\n"
   ]
  },
  {
   "cell_type": "markdown",
   "id": "64d7c198",
   "metadata": {},
   "source": [
    "# 2di"
   ]
  },
  {
   "cell_type": "markdown",
   "id": "1aa60810",
   "metadata": {},
   "source": [
    "### Is Focusing on Accuracy Reasonable?\n",
    "\n",
    "- The question states that false positives (predicting a rating is 4 or above when it's actually lower) and false negatives (predicting a rating is below 4 when it's actually 4 or above) are equally important. If that's genuinely the case, then accuracy can be a decent starting point since it treats both types of errors equally.\n",
    "\n",
    "- Let's think about this from a restaurant's perspective. A false positive might mean targeting improvements for a restaurant that's already doing well, which isn't the worst thing. But a false negative could mean overlooking a restaurant that actually needs help, which could be a bigger miss.\n",
    "\n",
    "- Accuracy can be misleading if there's a class imbalance (i.e., significantly more restaurants with ratings above or below 4). For instance, if 80% of the restaurants have ratings above 4, a model predicting \"above 4\" for all would still have an 80% accuracy, which is pretty high but not actually useful.\n",
    "\n",
    "- Depending on the business goal, other metrics like precision or recall might be more important. If the goal is to identify as many high-performing restaurants as possible, recall might be a better metric.\n",
    "\n",
    "So, while accuracy isn't a bad starting point, it might not capture the full picture, especially if the business impact of false positives and false negatives isn't really equal or if there's a class imbalance."
   ]
  },
  {
   "cell_type": "markdown",
   "id": "574022f3",
   "metadata": {},
   "source": [
    "# dii"
   ]
  },
  {
   "cell_type": "code",
   "execution_count": 17,
   "id": "83e09d88",
   "metadata": {},
   "outputs": [],
   "source": [
    "# Thresholding procedure to convert regression predictions to binary classification\n",
    "def threshold_predictions(predictions, threshold=4):\n",
    "    return (predictions >= threshold).astype(int)\n",
    "\n",
    "# Use the linear regression and regression tree models to make predictions on the test set\n",
    "linear_reg_predictions = linear_model.predict(test_data)\n",
    "tree_reg_predictions = final_tree_reg.predict(X_test)\n",
    "\n",
    "# Apply thresholding to convert these to fourOrAbove predictions\n",
    "linear_class_predictions = threshold_predictions(linear_reg_predictions)\n",
    "tree_class_predictions = threshold_predictions(tree_reg_predictions)\n"
   ]
  },
  {
   "cell_type": "code",
   "execution_count": 18,
   "id": "cc0f3ed7",
   "metadata": {},
   "outputs": [
    {
     "data": {
      "text/plain": [
       "(0.6324404761904762, 0.6320684523809523)"
      ]
     },
     "execution_count": 18,
     "metadata": {},
     "output_type": "execute_result"
    }
   ],
   "source": [
    "# Actual fourOrAbove values from the test set for evaluation\n",
    "y_test_class = test_data['fourOrAbove']\n",
    "\n",
    "# Evaluate the thresholded models using accuracy\n",
    "from sklearn.metrics import accuracy_score\n",
    "linear_class_accuracy = accuracy_score(y_test_class, linear_class_predictions)\n",
    "tree_class_accuracy = accuracy_score(y_test_class, tree_class_predictions)\n",
    "\n",
    "linear_class_accuracy, tree_class_accuracy"
   ]
  },
  {
   "cell_type": "markdown",
   "id": "3e6c0eb7",
   "metadata": {},
   "source": [
    "# diii"
   ]
  },
  {
   "cell_type": "code",
   "execution_count": 19,
   "id": "25420a79",
   "metadata": {},
   "outputs": [
    {
     "name": "stdout",
     "output_type": "stream",
     "text": [
      "Optimization terminated successfully.\n",
      "         Current function value: 0.608425\n",
      "         Iterations 6\n"
     ]
    },
    {
     "data": {
      "text/html": [
       "<table class=\"simpletable\">\n",
       "<caption>Logit Regression Results</caption>\n",
       "<tr>\n",
       "  <th>Dep. Variable:</th>      <td>fourOrAbove</td>   <th>  No. Observations:  </th>   <td>  6272</td>  \n",
       "</tr>\n",
       "<tr>\n",
       "  <th>Model:</th>                 <td>Logit</td>      <th>  Df Residuals:      </th>   <td>  6246</td>  \n",
       "</tr>\n",
       "<tr>\n",
       "  <th>Method:</th>                 <td>MLE</td>       <th>  Df Model:          </th>   <td>    25</td>  \n",
       "</tr>\n",
       "<tr>\n",
       "  <th>Date:</th>            <td>Thu, 12 Oct 2023</td> <th>  Pseudo R-squ.:     </th>   <td>0.1135</td>  \n",
       "</tr>\n",
       "<tr>\n",
       "  <th>Time:</th>                <td>10:58:23</td>     <th>  Log-Likelihood:    </th>  <td> -3816.0</td> \n",
       "</tr>\n",
       "<tr>\n",
       "  <th>converged:</th>             <td>True</td>       <th>  LL-Null:           </th>  <td> -4304.8</td> \n",
       "</tr>\n",
       "<tr>\n",
       "  <th>Covariance Type:</th>     <td>nonrobust</td>    <th>  LLR p-value:       </th> <td>3.284e-190</td>\n",
       "</tr>\n",
       "</table>\n",
       "<table class=\"simpletable\">\n",
       "<tr>\n",
       "                                     <td></td>                                       <th>coef</th>     <th>std err</th>      <th>z</th>      <th>P>|z|</th>  <th>[0.025</th>    <th>0.975]</th>  \n",
       "</tr>\n",
       "<tr>\n",
       "  <th>Intercept</th>                                                              <td>   -0.3101</td> <td>    0.107</td> <td>   -2.890</td> <td> 0.004</td> <td>   -0.520</td> <td>   -0.100</td>\n",
       "</tr>\n",
       "<tr>\n",
       "  <th>C(GoodForKids, Treatment(reference='Missing'))[T.FALSE]</th>                <td>    0.2469</td> <td>    0.128</td> <td>    1.934</td> <td> 0.053</td> <td>   -0.003</td> <td>    0.497</td>\n",
       "</tr>\n",
       "<tr>\n",
       "  <th>C(GoodForKids, Treatment(reference='Missing'))[T.TRUE]</th>                 <td>   -0.2024</td> <td>    0.099</td> <td>   -2.045</td> <td> 0.041</td> <td>   -0.396</td> <td>   -0.008</td>\n",
       "</tr>\n",
       "<tr>\n",
       "  <th>C(Alcohol, Treatment(reference='Missing'))[T.'beer_and_wine']</th>          <td>    0.1748</td> <td>    0.137</td> <td>    1.273</td> <td> 0.203</td> <td>   -0.094</td> <td>    0.444</td>\n",
       "</tr>\n",
       "<tr>\n",
       "  <th>C(Alcohol, Treatment(reference='Missing'))[T.'full_bar']</th>               <td>   -0.2038</td> <td>    0.127</td> <td>   -1.601</td> <td> 0.109</td> <td>   -0.453</td> <td>    0.046</td>\n",
       "</tr>\n",
       "<tr>\n",
       "  <th>C(Alcohol, Treatment(reference='Missing'))[T.'none']</th>                   <td>    0.3084</td> <td>    0.114</td> <td>    2.694</td> <td> 0.007</td> <td>    0.084</td> <td>    0.533</td>\n",
       "</tr>\n",
       "<tr>\n",
       "  <th>C(BusinessAcceptsCreditCards, Treatment(reference='Missing'))[T.FALSE]</th> <td>    1.0310</td> <td>    0.255</td> <td>    4.041</td> <td> 0.000</td> <td>    0.531</td> <td>    1.531</td>\n",
       "</tr>\n",
       "<tr>\n",
       "  <th>C(BusinessAcceptsCreditCards, Treatment(reference='Missing'))[T.TRUE]</th>  <td>   -0.0309</td> <td>    0.127</td> <td>   -0.244</td> <td> 0.807</td> <td>   -0.279</td> <td>    0.217</td>\n",
       "</tr>\n",
       "<tr>\n",
       "  <th>C(WiFi, Treatment(reference='Missing'))[T.'free']</th>                      <td>    0.4209</td> <td>    0.097</td> <td>    4.328</td> <td> 0.000</td> <td>    0.230</td> <td>    0.612</td>\n",
       "</tr>\n",
       "<tr>\n",
       "  <th>C(WiFi, Treatment(reference='Missing'))[T.'no']</th>                        <td>    0.3314</td> <td>    0.094</td> <td>    3.514</td> <td> 0.000</td> <td>    0.147</td> <td>    0.516</td>\n",
       "</tr>\n",
       "<tr>\n",
       "  <th>C(WiFi, Treatment(reference='Missing'))[T.'paid']</th>                      <td>   -0.7700</td> <td>    0.363</td> <td>   -2.123</td> <td> 0.034</td> <td>   -1.481</td> <td>   -0.059</td>\n",
       "</tr>\n",
       "<tr>\n",
       "  <th>C(BikeParking, Treatment(reference='Missing'))[T.FALSE]</th>                <td>   -0.4982</td> <td>    0.092</td> <td>   -5.399</td> <td> 0.000</td> <td>   -0.679</td> <td>   -0.317</td>\n",
       "</tr>\n",
       "<tr>\n",
       "  <th>C(BikeParking, Treatment(reference='Missing'))[T.TRUE]</th>                 <td>   -0.3079</td> <td>    0.081</td> <td>   -3.800</td> <td> 0.000</td> <td>   -0.467</td> <td>   -0.149</td>\n",
       "</tr>\n",
       "<tr>\n",
       "  <th>C(ByAppointmentOnly, Treatment(reference='Missing'))[T.FALSE]</th>          <td>    0.4357</td> <td>    0.097</td> <td>    4.512</td> <td> 0.000</td> <td>    0.246</td> <td>    0.625</td>\n",
       "</tr>\n",
       "<tr>\n",
       "  <th>C(ByAppointmentOnly, Treatment(reference='Missing'))[T.TRUE]</th>           <td>    0.3991</td> <td>    0.290</td> <td>    1.374</td> <td> 0.169</td> <td>   -0.170</td> <td>    0.968</td>\n",
       "</tr>\n",
       "<tr>\n",
       "  <th>C(WheelechairAccessible, Treatment(reference='Missing'))[T.FALSE]</th>      <td>    2.0350</td> <td>    0.338</td> <td>    6.021</td> <td> 0.000</td> <td>    1.373</td> <td>    2.697</td>\n",
       "</tr>\n",
       "<tr>\n",
       "  <th>C(WheelechairAccessible, Treatment(reference='Missing'))[T.TRUE]</th>       <td>    0.9324</td> <td>    0.076</td> <td>   12.309</td> <td> 0.000</td> <td>    0.784</td> <td>    1.081</td>\n",
       "</tr>\n",
       "<tr>\n",
       "  <th>C(OutdoorSeating, Treatment(reference='Missing'))[T.FALSE]</th>             <td>   -0.3339</td> <td>    0.113</td> <td>   -2.956</td> <td> 0.003</td> <td>   -0.555</td> <td>   -0.113</td>\n",
       "</tr>\n",
       "<tr>\n",
       "  <th>C(OutdoorSeating, Treatment(reference='Missing'))[T.TRUE]</th>              <td>   -0.1566</td> <td>    0.120</td> <td>   -1.304</td> <td> 0.192</td> <td>   -0.392</td> <td>    0.079</td>\n",
       "</tr>\n",
       "<tr>\n",
       "  <th>C(RestaurantsReservations, Treatment(reference='Missing'))[T.FALSE]</th>    <td>   -0.4197</td> <td>    0.116</td> <td>   -3.631</td> <td> 0.000</td> <td>   -0.646</td> <td>   -0.193</td>\n",
       "</tr>\n",
       "<tr>\n",
       "  <th>C(RestaurantsReservations, Treatment(reference='Missing'))[T.TRUE]</th>     <td>    0.0352</td> <td>    0.128</td> <td>    0.275</td> <td> 0.783</td> <td>   -0.215</td> <td>    0.286</td>\n",
       "</tr>\n",
       "<tr>\n",
       "  <th>C(DogsAllowed, Treatment(reference='Missing'))[T.FALSE]</th>                <td>    0.7095</td> <td>    0.081</td> <td>    8.744</td> <td> 0.000</td> <td>    0.550</td> <td>    0.868</td>\n",
       "</tr>\n",
       "<tr>\n",
       "  <th>C(DogsAllowed, Treatment(reference='Missing'))[T.TRUE]</th>                 <td>    0.4271</td> <td>    0.156</td> <td>    2.730</td> <td> 0.006</td> <td>    0.120</td> <td>    0.734</td>\n",
       "</tr>\n",
       "<tr>\n",
       "  <th>C(Caters, Treatment(reference='Missing'))[T.FALSE]</th>                     <td>   -0.3458</td> <td>    0.086</td> <td>   -4.001</td> <td> 0.000</td> <td>   -0.515</td> <td>   -0.176</td>\n",
       "</tr>\n",
       "<tr>\n",
       "  <th>C(Caters, Treatment(reference='Missing'))[T.TRUE]</th>                      <td>    0.1160</td> <td>    0.092</td> <td>    1.261</td> <td> 0.207</td> <td>   -0.064</td> <td>    0.296</td>\n",
       "</tr>\n",
       "<tr>\n",
       "  <th>review_count</th>                                                           <td>    0.0005</td> <td> 9.74e-05</td> <td>    5.080</td> <td> 0.000</td> <td>    0.000</td> <td>    0.001</td>\n",
       "</tr>\n",
       "</table>"
      ],
      "text/plain": [
       "<class 'statsmodels.iolib.summary.Summary'>\n",
       "\"\"\"\n",
       "                           Logit Regression Results                           \n",
       "==============================================================================\n",
       "Dep. Variable:            fourOrAbove   No. Observations:                 6272\n",
       "Model:                          Logit   Df Residuals:                     6246\n",
       "Method:                           MLE   Df Model:                           25\n",
       "Date:                Thu, 12 Oct 2023   Pseudo R-squ.:                  0.1135\n",
       "Time:                        10:58:23   Log-Likelihood:                -3816.0\n",
       "converged:                       True   LL-Null:                       -4304.8\n",
       "Covariance Type:            nonrobust   LLR p-value:                3.284e-190\n",
       "==========================================================================================================================================\n",
       "                                                                             coef    std err          z      P>|z|      [0.025      0.975]\n",
       "------------------------------------------------------------------------------------------------------------------------------------------\n",
       "Intercept                                                                 -0.3101      0.107     -2.890      0.004      -0.520      -0.100\n",
       "C(GoodForKids, Treatment(reference='Missing'))[T.FALSE]                    0.2469      0.128      1.934      0.053      -0.003       0.497\n",
       "C(GoodForKids, Treatment(reference='Missing'))[T.TRUE]                    -0.2024      0.099     -2.045      0.041      -0.396      -0.008\n",
       "C(Alcohol, Treatment(reference='Missing'))[T.'beer_and_wine']              0.1748      0.137      1.273      0.203      -0.094       0.444\n",
       "C(Alcohol, Treatment(reference='Missing'))[T.'full_bar']                  -0.2038      0.127     -1.601      0.109      -0.453       0.046\n",
       "C(Alcohol, Treatment(reference='Missing'))[T.'none']                       0.3084      0.114      2.694      0.007       0.084       0.533\n",
       "C(BusinessAcceptsCreditCards, Treatment(reference='Missing'))[T.FALSE]     1.0310      0.255      4.041      0.000       0.531       1.531\n",
       "C(BusinessAcceptsCreditCards, Treatment(reference='Missing'))[T.TRUE]     -0.0309      0.127     -0.244      0.807      -0.279       0.217\n",
       "C(WiFi, Treatment(reference='Missing'))[T.'free']                          0.4209      0.097      4.328      0.000       0.230       0.612\n",
       "C(WiFi, Treatment(reference='Missing'))[T.'no']                            0.3314      0.094      3.514      0.000       0.147       0.516\n",
       "C(WiFi, Treatment(reference='Missing'))[T.'paid']                         -0.7700      0.363     -2.123      0.034      -1.481      -0.059\n",
       "C(BikeParking, Treatment(reference='Missing'))[T.FALSE]                   -0.4982      0.092     -5.399      0.000      -0.679      -0.317\n",
       "C(BikeParking, Treatment(reference='Missing'))[T.TRUE]                    -0.3079      0.081     -3.800      0.000      -0.467      -0.149\n",
       "C(ByAppointmentOnly, Treatment(reference='Missing'))[T.FALSE]              0.4357      0.097      4.512      0.000       0.246       0.625\n",
       "C(ByAppointmentOnly, Treatment(reference='Missing'))[T.TRUE]               0.3991      0.290      1.374      0.169      -0.170       0.968\n",
       "C(WheelechairAccessible, Treatment(reference='Missing'))[T.FALSE]          2.0350      0.338      6.021      0.000       1.373       2.697\n",
       "C(WheelechairAccessible, Treatment(reference='Missing'))[T.TRUE]           0.9324      0.076     12.309      0.000       0.784       1.081\n",
       "C(OutdoorSeating, Treatment(reference='Missing'))[T.FALSE]                -0.3339      0.113     -2.956      0.003      -0.555      -0.113\n",
       "C(OutdoorSeating, Treatment(reference='Missing'))[T.TRUE]                 -0.1566      0.120     -1.304      0.192      -0.392       0.079\n",
       "C(RestaurantsReservations, Treatment(reference='Missing'))[T.FALSE]       -0.4197      0.116     -3.631      0.000      -0.646      -0.193\n",
       "C(RestaurantsReservations, Treatment(reference='Missing'))[T.TRUE]         0.0352      0.128      0.275      0.783      -0.215       0.286\n",
       "C(DogsAllowed, Treatment(reference='Missing'))[T.FALSE]                    0.7095      0.081      8.744      0.000       0.550       0.868\n",
       "C(DogsAllowed, Treatment(reference='Missing'))[T.TRUE]                     0.4271      0.156      2.730      0.006       0.120       0.734\n",
       "C(Caters, Treatment(reference='Missing'))[T.FALSE]                        -0.3458      0.086     -4.001      0.000      -0.515      -0.176\n",
       "C(Caters, Treatment(reference='Missing'))[T.TRUE]                          0.1160      0.092      1.261      0.207      -0.064       0.296\n",
       "review_count                                                               0.0005   9.74e-05      5.080      0.000       0.000       0.001\n",
       "==========================================================================================================================================\n",
       "\"\"\""
      ]
     },
     "execution_count": 19,
     "metadata": {},
     "output_type": "execute_result"
    }
   ],
   "source": [
    "import statsmodels.api as sm\n",
    "\n",
    "# Define the formula for the logistic regression model\n",
    "logistic_formula = '''\n",
    "fourOrAbove ~ review_count + \n",
    "         C(GoodForKids, Treatment(reference='Missing')) + \n",
    "         C(Alcohol, Treatment(reference='Missing')) + \n",
    "         C(BusinessAcceptsCreditCards, Treatment(reference='Missing')) + \n",
    "         C(WiFi, Treatment(reference='Missing')) + \n",
    "         C(BikeParking, Treatment(reference='Missing')) + \n",
    "         C(ByAppointmentOnly, Treatment(reference='Missing')) + \n",
    "         C(WheelechairAccessible, Treatment(reference='Missing')) + \n",
    "         C(OutdoorSeating, Treatment(reference='Missing')) + \n",
    "         C(RestaurantsReservations, Treatment(reference='Missing')) + \n",
    "         C(DogsAllowed, Treatment(reference='Missing')) + \n",
    "         C(Caters, Treatment(reference='Missing'))\n",
    "'''\n",
    "\n",
    "# Fit the logistic regression model\n",
    "logistic_model = sm.formula.logit(formula=logistic_formula, data=train_data).fit()\n",
    "\n",
    "# Display the model summary\n",
    "logistic_model.summary()\n"
   ]
  },
  {
   "cell_type": "markdown",
   "id": "ba53a90b",
   "metadata": {},
   "source": [
    "# div"
   ]
  },
  {
   "cell_type": "code",
   "execution_count": 20,
   "id": "b9e0f9b2",
   "metadata": {},
   "outputs": [],
   "source": [
    "from sklearn.tree import DecisionTreeClassifier, plot_tree\n",
    "from sklearn.model_selection import GridSearchCV"
   ]
  },
  {
   "cell_type": "code",
   "execution_count": 21,
   "id": "104e7618",
   "metadata": {},
   "outputs": [],
   "source": [
    "# Add the 'fourOrAbove' column to the encoded training data\n",
    "train_data_encoded['fourOrAbove'] = train_data['fourOrAbove']\n",
    "\n",
    "# Prepare the features and target variable for classification tree model\n",
    "X_train_class = train_data_encoded.drop(['stars', 'fourOrAbove'], axis=1)\n",
    "y_train_class = train_data_encoded['fourOrAbove']\n",
    "\n",
    "# Initialize DecisionTreeClassifier\n",
    "tree_classifier = DecisionTreeClassifier(random_state=42)\n"
   ]
  },
  {
   "cell_type": "code",
   "execution_count": 22,
   "id": "425e9a8c",
   "metadata": {},
   "outputs": [
    {
     "data": {
      "text/plain": [
       "(0.0020408163265306124, 0.6538588230808822)"
      ]
     },
     "execution_count": 22,
     "metadata": {},
     "output_type": "execute_result"
    }
   ],
   "source": [
    "# Define the parameter values to be searched for ccp_alpha\n",
    "param_grid = {'ccp_alpha': np.linspace(0, 0.05, 50)}\n",
    "\n",
    "# Perform 5-fold cross-validation to find the best ccp_alpha value\n",
    "grid_search = GridSearchCV(tree_classifier, param_grid, cv=5, scoring='accuracy')\n",
    "grid_search.fit(X_train_class, y_train_class)\n",
    "\n",
    "# Extract the best ccp_alpha value and the corresponding accuracy\n",
    "best_ccp_alpha = grid_search.best_params_['ccp_alpha']\n",
    "best_accuracy = grid_search.best_score_\n",
    "\n",
    "# Fit the final classification tree model using the best ccp_alpha value\n",
    "final_tree_classifier = DecisionTreeClassifier(ccp_alpha=best_ccp_alpha, random_state=42)\n",
    "final_tree_classifier.fit(X_train_class, y_train_class)\n",
    "\n",
    "best_ccp_alpha, best_accuracy"
   ]
  },
  {
   "cell_type": "code",
   "execution_count": 23,
   "id": "dd039fea",
   "metadata": {},
   "outputs": [
    {
     "data": {
      "image/png": "[encoded data removed]",
      "text/plain": [
       "<Figure size 1440x720 with 1 Axes>"
      ]
     },
     "metadata": {
      "needs_background": "light"
     },
     "output_type": "display_data"
    }
   ],
   "source": [
    "import matplotlib.pyplot as plt\n",
    "\n",
    "plt.figure(figsize=(20, 10))\n",
    "plot_tree(final_tree_classifier, filled=True, feature_names=X_train_class.columns, class_names=['Below 4', '4 or Above'], rounded=True)\n",
    "plt.title('Decision Tree for Predicting fourOrAbove')\n",
    "plt.show()"
   ]
  },
  {
   "cell_type": "markdown",
   "id": "6deebfcf",
   "metadata": {},
   "source": [
    "# dv"
   ]
  },
  {
   "cell_type": "code",
   "execution_count": 24,
   "id": "6925f2ab",
   "metadata": {},
   "outputs": [],
   "source": [
    "from sklearn.metrics import confusion_matrix"
   ]
  },
  {
   "cell_type": "code",
   "execution_count": 25,
   "id": "11695edb",
   "metadata": {},
   "outputs": [],
   "source": [
    "# Add the 'fourOrAbove' column to the encoded test data\n",
    "test_data_encoded['fourOrAbove'] = test_data['fourOrAbove']\n",
    "\n",
    "# Prepare the test set for classification evaluation\n",
    "X_test_class = test_data_encoded.drop(['stars', 'fourOrAbove'], axis=1)\n",
    "y_test_class = test_data_encoded['fourOrAbove']\n",
    "\n",
    "# Function to calculate accuracy, TPR, and FPR\n",
    "def calc_metrics(true_values, predicted_values):\n",
    "    tn, fp, fn, tp = confusion_matrix(true_values, predicted_values).ravel()\n",
    "    accuracy = (tp + tn) / (tp + tn + fp + fn)\n",
    "    tpr = tp / (tp + fn)\n",
    "    fpr = fp / (fp + tn)\n",
    "    return accuracy, tpr, fpr\n"
   ]
  },
  {
   "cell_type": "code",
   "execution_count": 26,
   "id": "38f7aac4",
   "metadata": {},
   "outputs": [
    {
     "data": {
      "text/html": [
       "<div>\n",
       "<style scoped>\n",
       "    .dataframe tbody tr th:only-of-type {\n",
       "        vertical-align: middle;\n",
       "    }\n",
       "\n",
       "    .dataframe tbody tr th {\n",
       "        vertical-align: top;\n",
       "    }\n",
       "\n",
       "    .dataframe thead th {\n",
       "        text-align: right;\n",
       "    }\n",
       "</style>\n",
       "<table border=\"1\" class=\"dataframe\">\n",
       "  <thead>\n",
       "    <tr style=\"text-align: right;\">\n",
       "      <th></th>\n",
       "      <th>Accuracy</th>\n",
       "      <th>TPR</th>\n",
       "      <th>FPR</th>\n",
       "    </tr>\n",
       "    <tr>\n",
       "      <th>Model</th>\n",
       "      <th></th>\n",
       "      <th></th>\n",
       "      <th></th>\n",
       "    </tr>\n",
       "  </thead>\n",
       "  <tbody>\n",
       "    <tr>\n",
       "      <th>Baseline</th>\n",
       "      <td>0.559896</td>\n",
       "      <td>0.000000</td>\n",
       "      <td>0.000000</td>\n",
       "    </tr>\n",
       "    <tr>\n",
       "      <th>Linear Regression (Thresholded)</th>\n",
       "      <td>0.632440</td>\n",
       "      <td>0.213863</td>\n",
       "      <td>0.038538</td>\n",
       "    </tr>\n",
       "    <tr>\n",
       "      <th>Regression Tree (Thresholded)</th>\n",
       "      <td>0.632068</td>\n",
       "      <td>0.243449</td>\n",
       "      <td>0.062458</td>\n",
       "    </tr>\n",
       "    <tr>\n",
       "      <th>Logistic Regression</th>\n",
       "      <td>0.675967</td>\n",
       "      <td>0.479290</td>\n",
       "      <td>0.169435</td>\n",
       "    </tr>\n",
       "    <tr>\n",
       "      <th>Classification Tree</th>\n",
       "      <td>0.657366</td>\n",
       "      <td>0.543533</td>\n",
       "      <td>0.253156</td>\n",
       "    </tr>\n",
       "  </tbody>\n",
       "</table>\n",
       "</div>"
      ],
      "text/plain": [
       "                                 Accuracy       TPR       FPR\n",
       "Model                                                        \n",
       "Baseline                         0.559896  0.000000  0.000000\n",
       "Linear Regression (Thresholded)  0.632440  0.213863  0.038538\n",
       "Regression Tree (Thresholded)    0.632068  0.243449  0.062458\n",
       "Logistic Regression              0.675967  0.479290  0.169435\n",
       "Classification Tree              0.657366  0.543533  0.253156"
      ]
     },
     "execution_count": 26,
     "metadata": {},
     "output_type": "execute_result"
    }
   ],
   "source": [
    "# Baseline model: Predict the most frequent outcome in the training set\n",
    "baseline_prediction = [y_train_class.mode()[0]] * len(y_test_class)\n",
    "baseline_metrics = calc_metrics(y_test_class, baseline_prediction)\n",
    "\n",
    "# Metrics for the thresholded regression models\n",
    "linear_threshold_metrics = calc_metrics(y_test_class, linear_class_predictions)\n",
    "tree_threshold_metrics = calc_metrics(y_test_class, tree_class_predictions)\n",
    "\n",
    "# Logistic regression predictions and metrics\n",
    "logistic_predictions = (logistic_model.predict(test_data) > 0.5).astype(int)\n",
    "logistic_metrics = calc_metrics(y_test_class, logistic_predictions)\n",
    "\n",
    "# Classification tree predictions and metrics\n",
    "tree_class_predictions = final_tree_classifier.predict(X_test_class)\n",
    "tree_class_metrics = calc_metrics(y_test_class, tree_class_predictions)\n",
    "\n",
    "# Compile all metrics into a table\n",
    "metrics_table = pd.DataFrame({\n",
    "    'Model': ['Baseline', 'Linear Regression (Thresholded)', 'Regression Tree (Thresholded)', 'Logistic Regression', 'Classification Tree'],\n",
    "    'Accuracy': [baseline_metrics[0], linear_threshold_metrics[0], tree_threshold_metrics[0], logistic_metrics[0], tree_class_metrics[0]],\n",
    "    'TPR': [baseline_metrics[1], linear_threshold_metrics[1], tree_threshold_metrics[1], logistic_metrics[1], tree_class_metrics[1]],\n",
    "    'FPR': [baseline_metrics[2], linear_threshold_metrics[2], tree_threshold_metrics[2], logistic_metrics[2], tree_class_metrics[2]]\n",
    "})\n",
    "\n",
    "metrics_table.set_index(\"Model\")"
   ]
  },
  {
   "cell_type": "markdown",
   "id": "7597e607",
   "metadata": {},
   "source": [
    "### Evaluation:\n",
    "\n",
    "1. **Baseline Model**: As expected, it has the lowest accuracy. It predicts the most frequent class every time.\n",
    "\n",
    "2. **Thresholded Regression Models**: These models have similar accuracy scores. However, their True Positive Rate (TPR) is rather low, suggesting they're not great at catching the positive class (restaurants with 4 or more stars).\n",
    "\n",
    "3. **Logistic Regression**: It has the highest accuracy and a relatively balanced TPR and FPR. \n",
    "\n",
    "4. **Classification Tree**: While its accuracy is a bit lower than the logistic model, it has the highest TPR, meaning it's better at identifying restaurants with 4 or more stars. However, it also has a higher FPR, indicating it's more prone to false alarms.\n",
    "\n",
    "### Trade-offs and Recommendation:\n",
    "\n",
    "- If you care most about overall accuracy, the **Logistic Regression model** is the best bet.\n",
    "- If you want to maximize the True Positive Rate (catching as many 4+ star restaurants as possible), the **Classification Tree model** is the best, but it also has a higher False Positive Rate.\n",
    "\n",
    "Personally, I'd recommend the **Logistic Regression model**. It has the highest accuracy and a good balance between TPR and FPR. It seems like a solid middle-ground solution for this problem."
   ]
  },
  {
   "cell_type": "code",
   "execution_count": null,
   "id": "4bdfd193",
   "metadata": {},
   "outputs": [],
   "source": []
  }
 ],
 "metadata": {
  "kernelspec": {
   "display_name": "Python 3 (ipykernel)",
   "language": "python",
   "name": "python3"
  },
  "language_info": {
   "codemirror_mode": {
    "name": "ipython",
    "version": 3
   },
   "file_extension": ".py",
   "mimetype": "text/x-python",
   "name": "python",
   "nbconvert_exporter": "python",
   "pygments_lexer": "ipython3",
   "version": "3.9.12"
  }
 },
 "nbformat": 4,
 "nbformat_minor": 5
}
