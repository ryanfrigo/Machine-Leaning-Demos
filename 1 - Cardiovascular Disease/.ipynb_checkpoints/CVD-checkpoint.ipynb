{
 "cells": [
  {
   "cell_type": "code",
   "execution_count": 1,
   "id": "5ea55ae4",
   "metadata": {},
   "outputs": [],
   "source": [
    "from scipy.stats import norm\n",
    "import numpy as np\n",
    "import matplotlib.pyplot as plt\n",
    "import pandas as pd"
   ]
  },
  {
   "cell_type": "code",
   "execution_count": 9,
   "id": "853755c1",
   "metadata": {},
   "outputs": [],
   "source": [
    "\n",
    "train_path = 'framingham_train.csv'\n",
    "test_path = 'framingham_test.csv'\n",
    "train_df = pd.read_csv(train_path)\n",
    "test_df = pd.read_csv(test_path)"
   ]
  },
  {
   "cell_type": "code",
   "execution_count": 10,
   "id": "1b11ecbc",
   "metadata": {},
   "outputs": [
    {
     "data": {
      "text/html": [
       "<div>\n",
       "<style scoped>\n",
       "    .dataframe tbody tr th:only-of-type {\n",
       "        vertical-align: middle;\n",
       "    }\n",
       "\n",
       "    .dataframe tbody tr th {\n",
       "        vertical-align: top;\n",
       "    }\n",
       "\n",
       "    .dataframe thead th {\n",
       "        text-align: right;\n",
       "    }\n",
       "</style>\n",
       "<table border=\"1\" class=\"dataframe\">\n",
       "  <thead>\n",
       "    <tr style=\"text-align: right;\">\n",
       "      <th></th>\n",
       "      <th>male</th>\n",
       "      <th>age</th>\n",
       "      <th>currentSmoker</th>\n",
       "      <th>cigsPerDay</th>\n",
       "      <th>BPMeds</th>\n",
       "      <th>prevalentStroke</th>\n",
       "      <th>prevalentHyp</th>\n",
       "      <th>diabetes</th>\n",
       "      <th>totChol</th>\n",
       "      <th>sysBP</th>\n",
       "      <th>diaBP</th>\n",
       "      <th>BMI</th>\n",
       "      <th>heartRate</th>\n",
       "      <th>glucose</th>\n",
       "      <th>TenYearCHD</th>\n",
       "    </tr>\n",
       "  </thead>\n",
       "  <tbody>\n",
       "    <tr>\n",
       "      <th>count</th>\n",
       "      <td>2560.000000</td>\n",
       "      <td>2560.000000</td>\n",
       "      <td>2560.000000</td>\n",
       "      <td>2560.000000</td>\n",
       "      <td>2560.000000</td>\n",
       "      <td>2560.000000</td>\n",
       "      <td>2560.000000</td>\n",
       "      <td>2560.000000</td>\n",
       "      <td>2560.000000</td>\n",
       "      <td>2560.000000</td>\n",
       "      <td>2560.000000</td>\n",
       "      <td>2560.000000</td>\n",
       "      <td>2560.000000</td>\n",
       "      <td>2560.000000</td>\n",
       "      <td>2560.000000</td>\n",
       "    </tr>\n",
       "    <tr>\n",
       "      <th>mean</th>\n",
       "      <td>0.439844</td>\n",
       "      <td>49.618750</td>\n",
       "      <td>0.485547</td>\n",
       "      <td>9.003906</td>\n",
       "      <td>0.032031</td>\n",
       "      <td>0.005859</td>\n",
       "      <td>0.308203</td>\n",
       "      <td>0.027734</td>\n",
       "      <td>236.947266</td>\n",
       "      <td>131.804102</td>\n",
       "      <td>82.698437</td>\n",
       "      <td>25.835633</td>\n",
       "      <td>75.696094</td>\n",
       "      <td>81.738281</td>\n",
       "      <td>0.147266</td>\n",
       "    </tr>\n",
       "    <tr>\n",
       "      <th>std</th>\n",
       "      <td>0.496465</td>\n",
       "      <td>8.541463</td>\n",
       "      <td>0.499889</td>\n",
       "      <td>11.886758</td>\n",
       "      <td>0.176117</td>\n",
       "      <td>0.076337</td>\n",
       "      <td>0.461841</td>\n",
       "      <td>0.164243</td>\n",
       "      <td>43.974672</td>\n",
       "      <td>21.975203</td>\n",
       "      <td>11.918551</td>\n",
       "      <td>4.114102</td>\n",
       "      <td>11.929151</td>\n",
       "      <td>23.704500</td>\n",
       "      <td>0.354440</td>\n",
       "    </tr>\n",
       "    <tr>\n",
       "      <th>min</th>\n",
       "      <td>0.000000</td>\n",
       "      <td>32.000000</td>\n",
       "      <td>0.000000</td>\n",
       "      <td>0.000000</td>\n",
       "      <td>0.000000</td>\n",
       "      <td>0.000000</td>\n",
       "      <td>0.000000</td>\n",
       "      <td>0.000000</td>\n",
       "      <td>124.000000</td>\n",
       "      <td>83.500000</td>\n",
       "      <td>48.000000</td>\n",
       "      <td>15.540000</td>\n",
       "      <td>44.000000</td>\n",
       "      <td>43.000000</td>\n",
       "      <td>0.000000</td>\n",
       "    </tr>\n",
       "    <tr>\n",
       "      <th>25%</th>\n",
       "      <td>0.000000</td>\n",
       "      <td>42.000000</td>\n",
       "      <td>0.000000</td>\n",
       "      <td>0.000000</td>\n",
       "      <td>0.000000</td>\n",
       "      <td>0.000000</td>\n",
       "      <td>0.000000</td>\n",
       "      <td>0.000000</td>\n",
       "      <td>205.000000</td>\n",
       "      <td>116.000000</td>\n",
       "      <td>74.500000</td>\n",
       "      <td>23.130000</td>\n",
       "      <td>68.000000</td>\n",
       "      <td>71.000000</td>\n",
       "      <td>0.000000</td>\n",
       "    </tr>\n",
       "    <tr>\n",
       "      <th>50%</th>\n",
       "      <td>0.000000</td>\n",
       "      <td>49.000000</td>\n",
       "      <td>0.000000</td>\n",
       "      <td>0.000000</td>\n",
       "      <td>0.000000</td>\n",
       "      <td>0.000000</td>\n",
       "      <td>0.000000</td>\n",
       "      <td>0.000000</td>\n",
       "      <td>235.000000</td>\n",
       "      <td>128.000000</td>\n",
       "      <td>82.000000</td>\n",
       "      <td>25.390000</td>\n",
       "      <td>75.000000</td>\n",
       "      <td>78.000000</td>\n",
       "      <td>0.000000</td>\n",
       "    </tr>\n",
       "    <tr>\n",
       "      <th>75%</th>\n",
       "      <td>1.000000</td>\n",
       "      <td>57.000000</td>\n",
       "      <td>1.000000</td>\n",
       "      <td>20.000000</td>\n",
       "      <td>0.000000</td>\n",
       "      <td>0.000000</td>\n",
       "      <td>1.000000</td>\n",
       "      <td>0.000000</td>\n",
       "      <td>263.000000</td>\n",
       "      <td>142.500000</td>\n",
       "      <td>89.000000</td>\n",
       "      <td>28.095000</td>\n",
       "      <td>82.000000</td>\n",
       "      <td>87.000000</td>\n",
       "      <td>0.000000</td>\n",
       "    </tr>\n",
       "    <tr>\n",
       "      <th>max</th>\n",
       "      <td>1.000000</td>\n",
       "      <td>70.000000</td>\n",
       "      <td>1.000000</td>\n",
       "      <td>60.000000</td>\n",
       "      <td>1.000000</td>\n",
       "      <td>1.000000</td>\n",
       "      <td>1.000000</td>\n",
       "      <td>1.000000</td>\n",
       "      <td>600.000000</td>\n",
       "      <td>295.000000</td>\n",
       "      <td>142.500000</td>\n",
       "      <td>56.800000</td>\n",
       "      <td>143.000000</td>\n",
       "      <td>394.000000</td>\n",
       "      <td>1.000000</td>\n",
       "    </tr>\n",
       "  </tbody>\n",
       "</table>\n",
       "</div>"
      ],
      "text/plain": [
       "              male          age  currentSmoker   cigsPerDay       BPMeds  \\\n",
       "count  2560.000000  2560.000000    2560.000000  2560.000000  2560.000000   \n",
       "mean      0.439844    49.618750       0.485547     9.003906     0.032031   \n",
       "std       0.496465     8.541463       0.499889    11.886758     0.176117   \n",
       "min       0.000000    32.000000       0.000000     0.000000     0.000000   \n",
       "25%       0.000000    42.000000       0.000000     0.000000     0.000000   \n",
       "50%       0.000000    49.000000       0.000000     0.000000     0.000000   \n",
       "75%       1.000000    57.000000       1.000000    20.000000     0.000000   \n",
       "max       1.000000    70.000000       1.000000    60.000000     1.000000   \n",
       "\n",
       "       prevalentStroke  prevalentHyp     diabetes      totChol        sysBP  \\\n",
       "count      2560.000000   2560.000000  2560.000000  2560.000000  2560.000000   \n",
       "mean          0.005859      0.308203     0.027734   236.947266   131.804102   \n",
       "std           0.076337      0.461841     0.164243    43.974672    21.975203   \n",
       "min           0.000000      0.000000     0.000000   124.000000    83.500000   \n",
       "25%           0.000000      0.000000     0.000000   205.000000   116.000000   \n",
       "50%           0.000000      0.000000     0.000000   235.000000   128.000000   \n",
       "75%           0.000000      1.000000     0.000000   263.000000   142.500000   \n",
       "max           1.000000      1.000000     1.000000   600.000000   295.000000   \n",
       "\n",
       "             diaBP          BMI    heartRate      glucose   TenYearCHD  \n",
       "count  2560.000000  2560.000000  2560.000000  2560.000000  2560.000000  \n",
       "mean     82.698437    25.835633    75.696094    81.738281     0.147266  \n",
       "std      11.918551     4.114102    11.929151    23.704500     0.354440  \n",
       "min      48.000000    15.540000    44.000000    43.000000     0.000000  \n",
       "25%      74.500000    23.130000    68.000000    71.000000     0.000000  \n",
       "50%      82.000000    25.390000    75.000000    78.000000     0.000000  \n",
       "75%      89.000000    28.095000    82.000000    87.000000     0.000000  \n",
       "max     142.500000    56.800000   143.000000   394.000000     1.000000  "
      ]
     },
     "execution_count": 10,
     "metadata": {},
     "output_type": "execute_result"
    }
   ],
   "source": [
    "train_df.describe()"
   ]
  },
  {
   "cell_type": "code",
   "execution_count": 11,
   "id": "d54404e5",
   "metadata": {},
   "outputs": [
    {
     "data": {
      "text/html": [
       "<div>\n",
       "<style scoped>\n",
       "    .dataframe tbody tr th:only-of-type {\n",
       "        vertical-align: middle;\n",
       "    }\n",
       "\n",
       "    .dataframe tbody tr th {\n",
       "        vertical-align: top;\n",
       "    }\n",
       "\n",
       "    .dataframe thead th {\n",
       "        text-align: right;\n",
       "    }\n",
       "</style>\n",
       "<table border=\"1\" class=\"dataframe\">\n",
       "  <thead>\n",
       "    <tr style=\"text-align: right;\">\n",
       "      <th></th>\n",
       "      <th>male</th>\n",
       "      <th>age</th>\n",
       "      <th>education</th>\n",
       "      <th>currentSmoker</th>\n",
       "      <th>cigsPerDay</th>\n",
       "      <th>BPMeds</th>\n",
       "      <th>prevalentStroke</th>\n",
       "      <th>prevalentHyp</th>\n",
       "      <th>diabetes</th>\n",
       "      <th>totChol</th>\n",
       "      <th>sysBP</th>\n",
       "      <th>diaBP</th>\n",
       "      <th>BMI</th>\n",
       "      <th>heartRate</th>\n",
       "      <th>glucose</th>\n",
       "      <th>TenYearCHD</th>\n",
       "    </tr>\n",
       "  </thead>\n",
       "  <tbody>\n",
       "    <tr>\n",
       "      <th>0</th>\n",
       "      <td>1</td>\n",
       "      <td>59</td>\n",
       "      <td>Some college/vocational school</td>\n",
       "      <td>0</td>\n",
       "      <td>0</td>\n",
       "      <td>0</td>\n",
       "      <td>0</td>\n",
       "      <td>1</td>\n",
       "      <td>0</td>\n",
       "      <td>285</td>\n",
       "      <td>128.0</td>\n",
       "      <td>91.0</td>\n",
       "      <td>28.23</td>\n",
       "      <td>70</td>\n",
       "      <td>80</td>\n",
       "      <td>0</td>\n",
       "    </tr>\n",
       "    <tr>\n",
       "      <th>1</th>\n",
       "      <td>0</td>\n",
       "      <td>43</td>\n",
       "      <td>High school/GED</td>\n",
       "      <td>1</td>\n",
       "      <td>15</td>\n",
       "      <td>1</td>\n",
       "      <td>0</td>\n",
       "      <td>1</td>\n",
       "      <td>0</td>\n",
       "      <td>172</td>\n",
       "      <td>149.0</td>\n",
       "      <td>82.0</td>\n",
       "      <td>22.35</td>\n",
       "      <td>60</td>\n",
       "      <td>64</td>\n",
       "      <td>0</td>\n",
       "    </tr>\n",
       "    <tr>\n",
       "      <th>2</th>\n",
       "      <td>0</td>\n",
       "      <td>48</td>\n",
       "      <td>Some high school</td>\n",
       "      <td>0</td>\n",
       "      <td>0</td>\n",
       "      <td>0</td>\n",
       "      <td>0</td>\n",
       "      <td>1</td>\n",
       "      <td>0</td>\n",
       "      <td>275</td>\n",
       "      <td>177.0</td>\n",
       "      <td>101.0</td>\n",
       "      <td>25.22</td>\n",
       "      <td>75</td>\n",
       "      <td>82</td>\n",
       "      <td>1</td>\n",
       "    </tr>\n",
       "    <tr>\n",
       "      <th>3</th>\n",
       "      <td>0</td>\n",
       "      <td>52</td>\n",
       "      <td>Some college/vocational school</td>\n",
       "      <td>0</td>\n",
       "      <td>0</td>\n",
       "      <td>0</td>\n",
       "      <td>0</td>\n",
       "      <td>0</td>\n",
       "      <td>0</td>\n",
       "      <td>272</td>\n",
       "      <td>112.5</td>\n",
       "      <td>75.5</td>\n",
       "      <td>22.69</td>\n",
       "      <td>90</td>\n",
       "      <td>83</td>\n",
       "      <td>0</td>\n",
       "    </tr>\n",
       "    <tr>\n",
       "      <th>4</th>\n",
       "      <td>0</td>\n",
       "      <td>38</td>\n",
       "      <td>High school/GED</td>\n",
       "      <td>1</td>\n",
       "      <td>5</td>\n",
       "      <td>0</td>\n",
       "      <td>0</td>\n",
       "      <td>0</td>\n",
       "      <td>0</td>\n",
       "      <td>179</td>\n",
       "      <td>116.5</td>\n",
       "      <td>72.5</td>\n",
       "      <td>21.49</td>\n",
       "      <td>70</td>\n",
       "      <td>76</td>\n",
       "      <td>0</td>\n",
       "    </tr>\n",
       "  </tbody>\n",
       "</table>\n",
       "</div>"
      ],
      "text/plain": [
       "   male  age                       education  currentSmoker  cigsPerDay  \\\n",
       "0     1   59  Some college/vocational school              0           0   \n",
       "1     0   43                 High school/GED              1          15   \n",
       "2     0   48                Some high school              0           0   \n",
       "3     0   52  Some college/vocational school              0           0   \n",
       "4     0   38                 High school/GED              1           5   \n",
       "\n",
       "   BPMeds  prevalentStroke  prevalentHyp  diabetes  totChol  sysBP  diaBP  \\\n",
       "0       0                0             1         0      285  128.0   91.0   \n",
       "1       1                0             1         0      172  149.0   82.0   \n",
       "2       0                0             1         0      275  177.0  101.0   \n",
       "3       0                0             0         0      272  112.5   75.5   \n",
       "4       0                0             0         0      179  116.5   72.5   \n",
       "\n",
       "     BMI  heartRate  glucose  TenYearCHD  \n",
       "0  28.23         70       80           0  \n",
       "1  22.35         60       64           0  \n",
       "2  25.22         75       82           1  \n",
       "3  22.69         90       83           0  \n",
       "4  21.49         70       76           0  "
      ]
     },
     "execution_count": 11,
     "metadata": {},
     "output_type": "execute_result"
    }
   ],
   "source": [
    "train_df.head()"
   ]
  },
  {
   "cell_type": "code",
   "execution_count": 12,
   "id": "ef72ea4b",
   "metadata": {},
   "outputs": [],
   "source": [
    "train_df = pd.get_dummies(train_df, columns=['education'], drop_first=True)\n",
    "test_df = pd.get_dummies(test_df, columns=['education'], drop_first=True)"
   ]
  },
  {
   "cell_type": "code",
   "execution_count": 13,
   "id": "f8bd8874",
   "metadata": {},
   "outputs": [],
   "source": [
    "from sklearn.linear_model import LogisticRegression\n",
    "from sklearn.metrics import accuracy_score"
   ]
  },
  {
   "cell_type": "code",
   "execution_count": 14,
   "id": "1e8109d8",
   "metadata": {},
   "outputs": [],
   "source": [
    "# separate features and target variable from the dataset\n",
    "X_train = train_df.drop('TenYearCHD', axis=1)\n",
    "y_train = train_df['TenYearCHD']\n",
    "X_test = test_df.drop('TenYearCHD', axis=1)\n",
    "y_test = test_df['TenYearCHD']"
   ]
  },
  {
   "cell_type": "code",
   "execution_count": 15,
   "id": "60715b55",
   "metadata": {},
   "outputs": [
    {
     "name": "stderr",
     "output_type": "stream",
     "text": [
      "/opt/anaconda3/lib/python3.9/site-packages/sklearn/linear_model/_logistic.py:814: ConvergenceWarning: lbfgs failed to converge (status=1):\n",
      "STOP: TOTAL NO. of ITERATIONS REACHED LIMIT.\n",
      "\n",
      "Increase the number of iterations (max_iter) or scale the data as shown in:\n",
      "    https://scikit-learn.org/stable/modules/preprocessing.html\n",
      "Please also refer to the documentation for alternative solver options:\n",
      "    https://scikit-learn.org/stable/modules/linear_model.html#logistic-regression\n",
      "  n_iter_i = _check_optimize_result(\n"
     ]
    },
    {
     "data": {
      "text/plain": [
       "0.8415300546448088"
      ]
     },
     "execution_count": 15,
     "metadata": {},
     "output_type": "execute_result"
    }
   ],
   "source": [
    "# train the logistic regression model\n",
    "logistic_model = LogisticRegression(max_iter=1000)\n",
    "logistic_model.fit(X_train, y_train)\n",
    "y_pred = logistic_model.predict(X_test)\n",
    "accuracy_score(y_test, y_pred)"
   ]
  },
  {
   "cell_type": "code",
   "execution_count": 36,
   "id": "02510532",
   "metadata": {},
   "outputs": [],
   "source": [
    "# we will scale the data to prevent this error^\n",
    "\n",
    "from sklearn.preprocessing import StandardScaler\n",
    "scaler = StandardScaler()\n",
    "\n",
    "# Fit the scaler on the training data and transform both the training and test data\n",
    "X_train_scaled = scaler.fit_transform(X_train)\n",
    "X_test_scaled = scaler.transform(X_test)"
   ]
  },
  {
   "cell_type": "code",
   "execution_count": 17,
   "id": "eda0626e",
   "metadata": {},
   "outputs": [
    {
     "data": {
      "text/plain": [
       "0.8424408014571949"
      ]
     },
     "execution_count": 17,
     "metadata": {},
     "output_type": "execute_result"
    }
   ],
   "source": [
    "# train the logistic regression model on the scaled data\n",
    "logistic_model_scaled = LogisticRegression(max_iter=1000)\n",
    "logistic_model_scaled.fit(X_train_scaled, y_train)\n",
    "\n",
    "# Make predictions on the scaled test dataset\n",
    "y_pred_scaled = logistic_model_scaled.predict(X_test_scaled)\n",
    "accuracy_score(y_test, y_pred_scaled)"
   ]
  },
  {
   "cell_type": "markdown",
   "id": "ef8e59ee",
   "metadata": {},
   "source": [
    "### i) Fitted Logistic Regression Model Equation\n",
    "\n",
    "The fitted logistic regression model can be represented by the equation:\n",
    "\n",
    "$$\n",
    "\\log\\left(\\frac{p}{1-p}\\right) = -2.02 + 0.54 \\times \\text{Age} + 0.29 \\times \\text{SysBP} + 0.25 \\times \\text{Male} + \\cdots\n",
    "$$\n",
    "\n",
    "$p$ is the probability of experiencing CHD within the next 10 years."
   ]
  },
  {
   "cell_type": "code",
   "execution_count": 18,
   "id": "9623e1ae",
   "metadata": {},
   "outputs": [
    {
     "name": "stdout",
     "output_type": "stream",
     "text": [
      "intercept: -2.022642254987951\n"
     ]
    },
    {
     "data": {
      "text/html": [
       "<div>\n",
       "<style scoped>\n",
       "    .dataframe tbody tr th:only-of-type {\n",
       "        vertical-align: middle;\n",
       "    }\n",
       "\n",
       "    .dataframe tbody tr th {\n",
       "        vertical-align: top;\n",
       "    }\n",
       "\n",
       "    .dataframe thead th {\n",
       "        text-align: right;\n",
       "    }\n",
       "</style>\n",
       "<table border=\"1\" class=\"dataframe\">\n",
       "  <thead>\n",
       "    <tr style=\"text-align: right;\">\n",
       "      <th></th>\n",
       "      <th>Coefficient</th>\n",
       "    </tr>\n",
       "    <tr>\n",
       "      <th>Feature</th>\n",
       "      <th></th>\n",
       "    </tr>\n",
       "  </thead>\n",
       "  <tbody>\n",
       "    <tr>\n",
       "      <th>age</th>\n",
       "      <td>0.541874</td>\n",
       "    </tr>\n",
       "    <tr>\n",
       "      <th>sysBP</th>\n",
       "      <td>0.289439</td>\n",
       "    </tr>\n",
       "    <tr>\n",
       "      <th>male</th>\n",
       "      <td>0.253233</td>\n",
       "    </tr>\n",
       "    <tr>\n",
       "      <th>cigsPerDay</th>\n",
       "      <td>0.223516</td>\n",
       "    </tr>\n",
       "    <tr>\n",
       "      <th>prevalentHyp</th>\n",
       "      <td>0.129241</td>\n",
       "    </tr>\n",
       "    <tr>\n",
       "      <th>glucose</th>\n",
       "      <td>0.127123</td>\n",
       "    </tr>\n",
       "    <tr>\n",
       "      <th>totChol</th>\n",
       "      <td>0.118577</td>\n",
       "    </tr>\n",
       "    <tr>\n",
       "      <th>education_Some high school</th>\n",
       "      <td>0.094405</td>\n",
       "    </tr>\n",
       "    <tr>\n",
       "      <th>diaBP</th>\n",
       "      <td>-0.076435</td>\n",
       "    </tr>\n",
       "    <tr>\n",
       "      <th>heartRate</th>\n",
       "      <td>-0.066804</td>\n",
       "    </tr>\n",
       "    <tr>\n",
       "      <th>BMI</th>\n",
       "      <td>0.061199</td>\n",
       "    </tr>\n",
       "    <tr>\n",
       "      <th>prevalentStroke</th>\n",
       "      <td>0.060287</td>\n",
       "    </tr>\n",
       "    <tr>\n",
       "      <th>education_Some college/vocational school</th>\n",
       "      <td>0.045484</td>\n",
       "    </tr>\n",
       "    <tr>\n",
       "      <th>currentSmoker</th>\n",
       "      <td>0.031383</td>\n",
       "    </tr>\n",
       "    <tr>\n",
       "      <th>BPMeds</th>\n",
       "      <td>0.028928</td>\n",
       "    </tr>\n",
       "    <tr>\n",
       "      <th>diabetes</th>\n",
       "      <td>-0.000919</td>\n",
       "    </tr>\n",
       "    <tr>\n",
       "      <th>education_High school/GED</th>\n",
       "      <td>0.000658</td>\n",
       "    </tr>\n",
       "  </tbody>\n",
       "</table>\n",
       "</div>"
      ],
      "text/plain": [
       "                                          Coefficient\n",
       "Feature                                              \n",
       "age                                          0.541874\n",
       "sysBP                                        0.289439\n",
       "male                                         0.253233\n",
       "cigsPerDay                                   0.223516\n",
       "prevalentHyp                                 0.129241\n",
       "glucose                                      0.127123\n",
       "totChol                                      0.118577\n",
       "education_Some high school                   0.094405\n",
       "diaBP                                       -0.076435\n",
       "heartRate                                   -0.066804\n",
       "BMI                                          0.061199\n",
       "prevalentStroke                              0.060287\n",
       "education_Some college/vocational school     0.045484\n",
       "currentSmoker                                0.031383\n",
       "BPMeds                                       0.028928\n",
       "diabetes                                    -0.000919\n",
       "education_High school/GED                    0.000658"
      ]
     },
     "execution_count": 18,
     "metadata": {},
     "output_type": "execute_result"
    }
   ],
   "source": [
    "coefficients = logistic_model_scaled.coef_[0]\n",
    "intercept = logistic_model_scaled.intercept_[0]\n",
    "\n",
    "feature_names = X_train.columns\n",
    "coefficients_df = pd.DataFrame({'Feature': feature_names, 'Coefficient': coefficients})\n",
    "\n",
    "coefficients_df['abs_coefficient'] = coefficients_df['Coefficient'].abs()\n",
    "coefficients_df_sorted = coefficients_df.sort_values('abs_coefficient', ascending=False).drop('abs_coefficient', axis=1).set_index(\"Feature\")\n",
    "\n",
    "print(f\"intercept: {intercept}\")\n",
    "coefficients_df_sorted"
   ]
  },
  {
   "cell_type": "markdown",
   "id": "5a99b39d",
   "metadata": {},
   "source": [
    "### ii) Most Important Risk Factors for 10-Year CHD Risk\n",
    "\n",
    "1. **Age** (Coefficient: 0.54)\n",
    "2. **SysBP** (Systolic Blood Pressure, Coefficient: 0.29)\n",
    "3. **Male** (Coefficient: 0.25)\n",
    "4. **CigsPerDay** (Cigarettes Per Day, Coefficient: 0.22)\n",
    "\n",
    "Scaling our variables made it easier to interpret the coefficients, because after scaling, the coefficient tells us the change in log odds for a one-standard-deviation change in the feature, making them directly comparable.\n",
    "\n",
    "For Age,  the coefficient (0.54) can be interpreted as the change in the log odds of developing CHD for a one-unit change in Age. In other words, for each additional year of age, the log odds of developing CHD within the next 10 years increase by 0.54.\n",
    "\n",
    "To put it more intuitively, we can exponentiate the coefficient to get the odds ratio:\n",
    "\n",
    "$\n",
    "\\text{Odds Ratio for Age} = e^{0.54} \\approx 1.71\n",
    "$\n",
    "\n",
    "This means that for each additional year in a patient's age, the odds of developing CHD in the next 10 years increase by about 71%."
   ]
  },
  {
   "cell_type": "markdown",
   "id": "12e9e419",
   "metadata": {},
   "source": [
    "### iii) $\\bar{p}$"
   ]
  },
  {
   "cell_type": "markdown",
   "id": "8ce5de43",
   "metadata": {},
   "source": [
    "Let's solve for p in the cost matrix / decision tree:"
   ]
  },
  {
   "cell_type": "code",
   "execution_count": 35,
   "id": "d1e8ae52",
   "metadata": {},
   "outputs": [
    {
     "data": {
      "text/latex": [
       "$\\displaystyle 0.110529377545084$"
      ],
      "text/plain": [
       "0.110529377545084"
      ]
     },
     "execution_count": 35,
     "metadata": {},
     "output_type": "execute_result"
    }
   ],
   "source": [
    "from sympy import symbols, Eq, solve\n",
    "\n",
    "# Define variables\n",
    "p = symbols('p')\n",
    "\n",
    "# Define equations for expected cost\n",
    "expected_cost_prescribe = 0.10 * p * 1_050_000 + (1 - 0.10 * p) * 95_000\n",
    "expected_cost_not_prescribe = p * 955_000 + (1 - p) * 0\n",
    "\n",
    "# Set up equation where expected costs are equal\n",
    "equation = Eq(expected_cost_prescribe, expected_cost_not_prescribe)\n",
    "\n",
    "# Solve for the threshold p\n",
    "threshold_p = solve(equation, p)[0]\n",
    "threshold_p"
   ]
  },
  {
   "cell_type": "markdown",
   "id": "f7362ab3",
   "metadata": {},
   "source": [
    "The optimal threshold for p is 0.111 or 11.1%. This means that if we predict the risk of having CHD in the next 10 years is > 11.1%, we should prescribe the medication. If the risk is < 11.1%, we should not prescribe the medication."
   ]
  },
  {
   "cell_type": "markdown",
   "id": "a20bac86",
   "metadata": {},
   "source": [
    "## iv)"
   ]
  },
  {
   "cell_type": "code",
   "execution_count": 20,
   "id": "c83336db",
   "metadata": {},
   "outputs": [],
   "source": [
    "from sklearn.metrics import confusion_matrix"
   ]
  },
  {
   "cell_type": "code",
   "execution_count": 21,
   "id": "711de220",
   "metadata": {},
   "outputs": [
    {
     "data": {
      "text/plain": [
       "(0.5865209471766849, 0.8277777777777777, 0.46078431372549017)"
      ]
     },
     "execution_count": 21,
     "metadata": {},
     "output_type": "execute_result"
    }
   ],
   "source": [
    "# Predict probabilities using the scaled logistic regression model\n",
    "y_pred_proba_scaled = logistic_model_scaled.predict_proba(X_test_scaled)[:, 1]\n",
    "\n",
    "# Apply the threshold to classify patients as high risk or low risk\n",
    "y_pred_threshold = (y_pred_proba_scaled >= threshold_p).astype(int)\n",
    "\n",
    "# Calculate the confusion matrix\n",
    "conf_matrix = confusion_matrix(y_test, y_pred_threshold)\n",
    "\n",
    "# Calculate the model's accuracy, True Positive Rate (TPR), and False Positive Rate (FPR)\n",
    "TN, FP, FN, TP = conf_matrix.ravel()\n",
    "accuracy = (TP + TN) / (TP + TN + FP + FN)\n",
    "TPR = TP / (TP + FN)\n",
    "FPR = FP / (FP + TN)\n",
    "\n",
    "accuracy, TPR, FPR"
   ]
  },
  {
   "cell_type": "markdown",
   "id": "f9c55212",
   "metadata": {},
   "source": [
    "The logistic regression model's test set performance using the threshold \\( $\\bar{p} = 0.111$ \\) is as follows:\n",
    "\n",
    "- **Accuracy**: $\\approx 58.7\\%$\n",
    " - tells us how often the model is correct.\n",
    " \n",
    "- **True Positive Rate (TPR)**: $\\approx 82.8\\%$\n",
    " - tells us what portion of the actual high-risk patients were correctly identified by the model.\n",
    " \n",
    "- **False Positive Rate (FPR)**: $\\approx 46.0\\%$\n",
    " - tells us what portion of the actual low-risk patients were incorrectly identified as high risk by the model.\n",
    "\n",
    "While this model is fairly good at identifying high-risk patients (TPR = 82.8%), it also has a tendency to incorrectly label low-risk patients as high-risk (FPR = 46.0%). The overall accuracy of 58.7% suggests there might be room for improvement."
   ]
  },
  {
   "cell_type": "markdown",
   "id": "d956ffc4",
   "metadata": {},
   "source": [
    "## cost structure to determine treatment decisions"
   ]
  },
  {
   "cell_type": "code",
   "execution_count": 38,
   "id": "8ba55714",
   "metadata": {},
   "outputs": [],
   "source": [
    "# cost structure\n",
    "cost_prescribe_CHD = 1_050_000\n",
    "cost_prescribe_no_CHD = 95_000\n",
    "cost_no_prescribe_CHD = 955_000\n",
    "cost_no_prescribe_no_CHD = 0"
   ]
  },
  {
   "cell_type": "code",
   "execution_count": 39,
   "id": "adda8fcf",
   "metadata": {},
   "outputs": [
    {
     "data": {
      "text/plain": [
       "206047.35883424408"
      ]
     },
     "execution_count": 39,
     "metadata": {},
     "output_type": "execute_result"
    }
   ],
   "source": [
    "# Scenario 1\n",
    "total_cost = 0\n",
    "num_patients = len(y_test)\n",
    "\n",
    "for i in range(num_patients):\n",
    "    actual_outcome = y_test.iloc[i]\n",
    "    predicted_prob = y_pred_proba_scaled[i]\n",
    "    \n",
    "    # If medication is prescribed\n",
    "    if predicted_prob >= threshold_p:\n",
    "        if actual_outcome == 1:\n",
    "            total_cost += cost_prescribe_CHD\n",
    "        else:\n",
    "            total_cost += cost_prescribe_no_CHD\n",
    "    # If medication is not prescribed\n",
    "    else:\n",
    "        if actual_outcome == 1:\n",
    "            total_cost += cost_no_prescribe_CHD\n",
    "        else:\n",
    "            total_cost += cost_no_prescribe_no_CHD\n",
    "\n",
    "total_cost / num_patients"
   ]
  },
  {
   "cell_type": "code",
   "execution_count": 40,
   "id": "bfb854ff",
   "metadata": {},
   "outputs": [
    {
     "data": {
      "text/plain": [
       "89803.6284835393"
      ]
     },
     "execution_count": 40,
     "metadata": {},
     "output_type": "execute_result"
    }
   ],
   "source": [
    "# Scenario 2\n",
    "total_cost_adjusted = 0\n",
    "\n",
    "for i in range(num_patients):\n",
    "    actual_outcome = y_test.iloc[i]\n",
    "    predicted_prob = y_pred_proba_scaled[i]\n",
    "    \n",
    "    # If medication is prescribed\n",
    "    if predicted_prob >= threshold_p:\n",
    "        adjusted_prob = 0.10 * predicted_prob  # Adjusting the risk due to treatment\n",
    "        expected_cost = adjusted_prob * cost_prescribe_CHD + (1 - adjusted_prob) * cost_prescribe_no_CHD\n",
    "    # If medication is not prescribed\n",
    "    else:\n",
    "        expected_cost = predicted_prob * cost_no_prescribe_CHD + (1 - predicted_prob) * cost_no_prescribe_no_CHD\n",
    "\n",
    "    total_cost_adjusted += expected_cost\n",
    "\n",
    "total_cost_adjusted / num_patients"
   ]
  },
  {
   "cell_type": "markdown",
   "id": "d034e633",
   "metadata": {},
   "source": [
    "- **Scenario 1** (No adjustment for treatment effect): Expected cost is about $205,961 per patient.\n",
    "\n",
    "The assumption that the CHD outcomes in the test set are\n",
    "not affected by the treatment decision might not be entirely reasonable because the treatment is designed to affect the risk of developing CHD. Therefore, the cost of treatment should, in theory, have an impact on the CHD outcomes. The dataset was collected before the option of prescribing the medication was considered, so it doesn't capture the potential benefits of treatment.\n",
    "\n",
    "- **Scenario 2** (Adjustment for treatment effect): Expected cost is about $89,804 per patient.\n",
    "\n",
    "This significant decrease in expected cost suggests that the treatment works in reducing risk of developing CHD. However, as stated before, the model's accuracy is only 58.7%, so these figures should be considered rough estimates. Furthermore, since the dataset was collected before the treatment option was considered, it may not fully capture the nuances of treatment effects."
   ]
  },
  {
   "cell_type": "markdown",
   "id": "6da1a861",
   "metadata": {},
   "source": [
    "## Baseline Performance"
   ]
  },
  {
   "cell_type": "code",
   "execution_count": 41,
   "id": "6dc17c6e",
   "metadata": {},
   "outputs": [
    {
     "data": {
      "text/plain": [
       "(0.8360655737704918, 156557.37704918033)"
      ]
     },
     "execution_count": 41,
     "metadata": {},
     "output_type": "execute_result"
    }
   ],
   "source": [
    "total_cost_baseline = 0\n",
    "\n",
    "# Since the baseline model predicts no high-risk patients, it never prescribes medication.\n",
    "# So the only costs incurred are for those who actually have CHD but don't get the medication.\n",
    "\n",
    "for actual_outcome in y_test:\n",
    "    if actual_outcome == 1:\n",
    "        total_cost_baseline += cost_no_prescribe_CHD\n",
    "    else:\n",
    "        total_cost_baseline += cost_no_prescribe_no_CHD\n",
    "\n",
    "expected_cost_per_patient_baseline = total_cost_baseline / num_patients\n",
    "\n",
    "# accuracy can be calculated as the proportion of true negatives in the dataset\n",
    "accuracy_baseline = len(y_test[y_test == 0]) / len(y_test)\n",
    "\n",
    "accuracy_baseline, expected_cost_per_patient_baseline"
   ]
  },
  {
   "cell_type": "markdown",
   "id": "56c144ce",
   "metadata": {},
   "source": [
    "For the baseline model that predicts no patients are at high risk for CHD and therefore does not recommend treatment for any of them, the test set performance is as follows:\n",
    "\n",
    "- **Accuracy**: Approximately \\(83.6%\\)\n",
    "- **True Positive Rate (TPR)**: \\(0\\) (The model identifies no true positives, as it never predicts high risk)\n",
    "- **False Positive Rate (FPR)**: \\(0\\) (The model makes no false positive predictions, as it never predicts high risk)\n",
    "- **Expected Economic Cost Per Patient**: Approximately $156,557\n",
    "\n",
    "### Explanation:\n",
    "\n",
    "- **Accuracy**: This model is correct about \\(83.6%\\) of the time when saying patients are at low risk for CHD. This high accuracy may seem good at first glance, but it's misleading because the model never identifies anyone who actually needs treatment.\n",
    "  \n",
    "- **True Positive Rate (TPR)**: This is a big red flag. The model never correctly identifies anyone who is actually at high risk, which is its main job.\n",
    "  \n",
    "- **False Positive Rate (FPR)**: This is also misleadingly good. The model never falsely identifies a low-risk patient as high-risk because it never identifies anyone as high-risk to begin with.\n",
    "\n",
    "- **Expected Economic Cost Per Patient**: This cost ($156,557) is between the expected costs of the logistic regression model under Scenarios 1 and 2. This indicates that while the model avoids the costs of treatment, it incurs costs from not treating those who need it."
   ]
  },
  {
   "cell_type": "markdown",
   "id": "e8db08a0",
   "metadata": {},
   "source": [
    "## Example of using model in clinical setting"
   ]
  },
  {
   "cell_type": "code",
   "execution_count": 52,
   "id": "8270f03b",
   "metadata": {
    "scrolled": true
   },
   "outputs": [],
   "source": [
    "columns = test_df.columns\n",
    "columns = columns.drop(\"TenYearCHD\")"
   ]
  },
  {
   "cell_type": "code",
   "execution_count": 53,
   "id": "86e8c019",
   "metadata": {},
   "outputs": [
    {
     "data": {
      "text/html": [
       "<div>\n",
       "<style scoped>\n",
       "    .dataframe tbody tr th:only-of-type {\n",
       "        vertical-align: middle;\n",
       "    }\n",
       "\n",
       "    .dataframe tbody tr th {\n",
       "        vertical-align: top;\n",
       "    }\n",
       "\n",
       "    .dataframe thead th {\n",
       "        text-align: right;\n",
       "    }\n",
       "</style>\n",
       "<table border=\"1\" class=\"dataframe\">\n",
       "  <thead>\n",
       "    <tr style=\"text-align: right;\">\n",
       "      <th></th>\n",
       "      <th>male</th>\n",
       "      <th>age</th>\n",
       "      <th>currentSmoker</th>\n",
       "      <th>cigsPerDay</th>\n",
       "      <th>BPMeds</th>\n",
       "      <th>prevalentStroke</th>\n",
       "      <th>prevalentHyp</th>\n",
       "      <th>diabetes</th>\n",
       "      <th>totChol</th>\n",
       "      <th>sysBP</th>\n",
       "      <th>diaBP</th>\n",
       "      <th>BMI</th>\n",
       "      <th>heartRate</th>\n",
       "      <th>glucose</th>\n",
       "      <th>education_High school/GED</th>\n",
       "      <th>education_Some college/vocational school</th>\n",
       "      <th>education_Some high school</th>\n",
       "    </tr>\n",
       "  </thead>\n",
       "  <tbody>\n",
       "    <tr>\n",
       "      <th>0</th>\n",
       "      <td>0.0</td>\n",
       "      <td>0.0</td>\n",
       "      <td>0.0</td>\n",
       "      <td>0.0</td>\n",
       "      <td>0.0</td>\n",
       "      <td>0.0</td>\n",
       "      <td>0.0</td>\n",
       "      <td>0.0</td>\n",
       "      <td>0.0</td>\n",
       "      <td>0.0</td>\n",
       "      <td>0.0</td>\n",
       "      <td>0.0</td>\n",
       "      <td>0.0</td>\n",
       "      <td>0.0</td>\n",
       "      <td>0.0</td>\n",
       "      <td>0.0</td>\n",
       "      <td>0.0</td>\n",
       "    </tr>\n",
       "  </tbody>\n",
       "</table>\n",
       "</div>"
      ],
      "text/plain": [
       "   male  age  currentSmoker  cigsPerDay  BPMeds  prevalentStroke  \\\n",
       "0   0.0  0.0            0.0         0.0     0.0              0.0   \n",
       "\n",
       "   prevalentHyp  diabetes  totChol  sysBP  diaBP  BMI  heartRate  glucose  \\\n",
       "0           0.0       0.0      0.0    0.0    0.0  0.0        0.0      0.0   \n",
       "\n",
       "   education_High school/GED  education_Some college/vocational school  \\\n",
       "0                        0.0                                       0.0   \n",
       "\n",
       "   education_Some high school  \n",
       "0                         0.0  "
      ]
     },
     "execution_count": 53,
     "metadata": {},
     "output_type": "execute_result"
    }
   ],
   "source": [
    "# initialize df for patient\n",
    "patient_1 = pd.DataFrame(np.zeros((1, len(columns))), columns=columns)\n",
    "patient_1"
   ]
  },
  {
   "cell_type": "code",
   "execution_count": 54,
   "id": "3d594b08",
   "metadata": {},
   "outputs": [],
   "source": [
    "# Update the values based on the patient's data\n",
    "patient_1['age'] = 39\n",
    "patient_1['currentSmoker'] = 1\n",
    "patient_1['cigsPerDay'] = 6\n",
    "patient_1['diabetes'] = 1\n",
    "patient_1['totChol'] = 230\n",
    "patient_1['sysBP'] = 110\n",
    "patient_1['diaBP'] = 50\n",
    "patient_1['BMI'] = 28\n",
    "patient_1['heartRate'] = 72\n",
    "patient_1['glucose'] = 80\n",
    "patient_1['education_High school/GED'] = 1"
   ]
  },
  {
   "cell_type": "code",
   "execution_count": 55,
   "id": "56b40d6b",
   "metadata": {},
   "outputs": [
    {
     "data": {
      "text/html": [
       "<div>\n",
       "<style scoped>\n",
       "    .dataframe tbody tr th:only-of-type {\n",
       "        vertical-align: middle;\n",
       "    }\n",
       "\n",
       "    .dataframe tbody tr th {\n",
       "        vertical-align: top;\n",
       "    }\n",
       "\n",
       "    .dataframe thead th {\n",
       "        text-align: right;\n",
       "    }\n",
       "</style>\n",
       "<table border=\"1\" class=\"dataframe\">\n",
       "  <thead>\n",
       "    <tr style=\"text-align: right;\">\n",
       "      <th></th>\n",
       "      <th>male</th>\n",
       "      <th>age</th>\n",
       "      <th>currentSmoker</th>\n",
       "      <th>cigsPerDay</th>\n",
       "      <th>BPMeds</th>\n",
       "      <th>prevalentStroke</th>\n",
       "      <th>prevalentHyp</th>\n",
       "      <th>diabetes</th>\n",
       "      <th>totChol</th>\n",
       "      <th>sysBP</th>\n",
       "      <th>diaBP</th>\n",
       "      <th>BMI</th>\n",
       "      <th>heartRate</th>\n",
       "      <th>glucose</th>\n",
       "      <th>education_High school/GED</th>\n",
       "      <th>education_Some college/vocational school</th>\n",
       "      <th>education_Some high school</th>\n",
       "    </tr>\n",
       "  </thead>\n",
       "  <tbody>\n",
       "    <tr>\n",
       "      <th>0</th>\n",
       "      <td>0.0</td>\n",
       "      <td>39</td>\n",
       "      <td>1</td>\n",
       "      <td>6</td>\n",
       "      <td>0.0</td>\n",
       "      <td>0.0</td>\n",
       "      <td>0.0</td>\n",
       "      <td>1</td>\n",
       "      <td>230</td>\n",
       "      <td>110</td>\n",
       "      <td>50</td>\n",
       "      <td>28</td>\n",
       "      <td>72</td>\n",
       "      <td>80</td>\n",
       "      <td>1</td>\n",
       "      <td>0.0</td>\n",
       "      <td>0.0</td>\n",
       "    </tr>\n",
       "  </tbody>\n",
       "</table>\n",
       "</div>"
      ],
      "text/plain": [
       "   male  age  currentSmoker  cigsPerDay  BPMeds  prevalentStroke  \\\n",
       "0   0.0   39              1           6     0.0              0.0   \n",
       "\n",
       "   prevalentHyp  diabetes  totChol  sysBP  diaBP  BMI  heartRate  glucose  \\\n",
       "0           0.0         1      230    110     50   28         72       80   \n",
       "\n",
       "   education_High school/GED  education_Some college/vocational school  \\\n",
       "0                          1                                       0.0   \n",
       "\n",
       "   education_Some high school  \n",
       "0                         0.0  "
      ]
     },
     "execution_count": 55,
     "metadata": {},
     "output_type": "execute_result"
    }
   ],
   "source": [
    "patient_1"
   ]
  },
  {
   "cell_type": "code",
   "execution_count": 56,
   "id": "ca7bb260",
   "metadata": {},
   "outputs": [],
   "source": [
    "# we need to scale the patient data as we did for the train data\n",
    "patient_1 = scaler.transform(patient_1)"
   ]
  },
  {
   "cell_type": "code",
   "execution_count": 59,
   "id": "d9a0b6ff",
   "metadata": {},
   "outputs": [
    {
     "name": "stdout",
     "output_type": "stream",
     "text": [
      "Predicted p: 0.03922013939591845\n"
     ]
    },
    {
     "data": {
      "text/plain": [
       "'Prescribe medication: False'"
      ]
     },
     "execution_count": 59,
     "metadata": {},
     "output_type": "execute_result"
    }
   ],
   "source": [
    "predicted_prob_patient_1 = logistic_model_scaled.predict_proba(patient_1)[:, 1][0]\n",
    "print(f\"Predicted p: {predicted_prob_patient_1}\")\n",
    "f\"Prescribe medication: {predicted_prob_patient_1 >= threshold_p}\""
   ]
  },
  {
   "cell_type": "markdown",
   "id": "e1468755",
   "metadata": {},
   "source": [
    "### In a Real Clinical Setting:\n",
    "\n",
    "- The physician would first collect all the relevant medical data from the patient's electronic records.\n",
    "- This data would be inputted into a system that uses the logistic regression model to calculate the 10-year CHD risk.\n",
    "- The calculated risk would then be compared against the $\\bar{p}$ threshold to help make the decision about prescribing the preventive medication.\n",
    "- The physician would use the calculated risk as an indicator and not rely on the model as the sole decision maker. "
   ]
  },
  {
   "cell_type": "markdown",
   "id": "51a2c4ab",
   "metadata": {},
   "source": [
    "# ROC Curve"
   ]
  },
  {
   "cell_type": "code",
   "execution_count": 31,
   "id": "d70655e9",
   "metadata": {},
   "outputs": [],
   "source": [
    "from sklearn.metrics import roc_curve, roc_auc_score\n",
    "import matplotlib.pyplot as plt"
   ]
  },
  {
   "cell_type": "code",
   "execution_count": 32,
   "id": "8b56734f",
   "metadata": {},
   "outputs": [],
   "source": [
    "fpr, tpr, thresholds = roc_curve(y_test, y_pred_proba_scaled)\n",
    "roc_auc = roc_auc_score(y_test, y_pred_proba_scaled)"
   ]
  },
  {
   "cell_type": "code",
   "execution_count": 33,
   "id": "07ad2c2e",
   "metadata": {},
   "outputs": [
    {
     "data": {
      "image/png": "[encoded data removed]",
      "text/plain": [
       "<Figure size 720x576 with 1 Axes>"
      ]
     },
     "metadata": {
      "needs_background": "light"
     },
     "output_type": "display_data"
    }
   ],
   "source": [
    "# Plot the ROC curve with AUC shaded\n",
    "plt.figure(figsize=(10, 8))\n",
    "plt.plot(fpr, tpr, label='ROC curve')\n",
    "plt.fill_between(fpr, 0, tpr, alpha=0.1, color='b', label=f'Area under curve (AUC): {roc_auc:.2f}')\n",
    "plt.plot([0, 1], [0, 1], 'k--')\n",
    "plt.xlim([0.0, 1.0])\n",
    "plt.ylim([0.0, 1.05])\n",
    "plt.xlabel('False Positive Rate')\n",
    "plt.ylabel('True Positive Rate')\n",
    "plt.title('ROC Curve')\n",
    "plt.legend(loc=\"lower right\")\n",
    "plt.show()\n"
   ]
  },
  {
   "cell_type": "markdown",
   "id": "5fe8fab4",
   "metadata": {},
   "source": [
    "The area under the ROC curve (AUC) is approximately 0.752.\n",
    "\n",
    "The curve is above the diagonal line, which means that the model does have predictive power. However, it's not very close to the top-left corner, which would represent a perfect classifier. This suggests that while the model is useful, there may be room for improvement, possibly by incorporating more features, using different modeling techniques, or gathering more data."
   ]
  },
  {
   "cell_type": "markdown",
   "id": "595414be",
   "metadata": {},
   "source": [
    "# Optimal Co-Payment"
   ]
  },
  {
   "cell_type": "markdown",
   "id": "32c40fae",
   "metadata": {},
   "source": [
    "A rational patient would opt for the medication if the expected quality-of-life cost saved by taking the medication exceeds the co-payment $C$. Mathematically, this decision criterion can be expressed as:\n",
    "\n",
    " $$ C \\leq \\$625,000 \\times (p - 0.10p) = \\$625,000 \\times 0.9p $$\n",
    "\n",
    "To align this with the \"optimal strategy\" discussed earlier, where the treatment is prescribed if $p$ exceeds $\\bar{p} = 11.1\\%$, the insurance company should set $C$ such that:\n",
    "\n",
    "$$ C = \\$625,000 \\times 0.9 \\times \\bar{p} $$"
   ]
  },
  {
   "cell_type": "code",
   "execution_count": 34,
   "id": "42fe1da8",
   "metadata": {},
   "outputs": [
    {
     "data": {
      "text/latex": [
       "$\\displaystyle 62172.7748691099$"
      ],
      "text/plain": [
       "62172.7748691099"
      ]
     },
     "execution_count": 34,
     "metadata": {},
     "output_type": "execute_result"
    }
   ],
   "source": [
    "625000 * 0.9 * threshold_p[0]"
   ]
  },
  {
   "cell_type": "markdown",
   "id": "1602f74f",
   "metadata": {},
   "source": [
    "The insurance company could charge a co-payment of approximately $\\$62,173$ for the medication. With this co-payment value, patients would \"self-select\" in a manner consistent with the optimal strategy discussed earlier. Specifically, those with a 10-year CHD risk exceeding the $\\bar{p}$ threshold of 11.1% would find it economically rational get the medication, while those below this risk level would not. However, humans are statistcal computers, and the way these numbers are presented to them and their current financial situation would likely influence them more than the \"rationality\" of the cost. "
   ]
  },
  {
   "cell_type": "markdown",
   "id": "8bc18e2a",
   "metadata": {},
   "source": [
    "# Ethical Concerns"
   ]
  },
  {
   "cell_type": "markdown",
   "id": "b864ae60",
   "metadata": {},
   "source": [
    "- What I just mentioned above is a concern. Even though the cost of $\\$62,173$ is rational, patients might not opt for the medication even if they need it, based on how it is presented, their current financial situation, their relationship with their doctor, their perception of their insurer, and a variety of other factors. \n",
    "\n",
    "- We are valuing the quality-of-life cost of having CHD as $\\$625,000$. First of all, I am not sure how this number came about. Second, the effects and quality-of-life impacts for an individual with CHD may vary greatly, so ascribing this value to every patient may not be ethical or helpful in the patient's decision.\n",
    "\n",
    "- We did not conduct any analysis on the diversity of the dataset. If the dataset does not represent the population the model is being used on, that is an ethical concern. The predictions of the model may not be accurate for any population groups that are not represented in the data, or the data could be missing valuable features that could further improve the model.\n",
    "\n",
    "- As stated earlier, the model should be used to aid in decision-making, and not make the decision itself. Machine learning models should not replace experts, they should ideally add valuable insight to assist the expert or patient make a decision.\n",
    "\n",
    "- Lastly, logistic regression is abstract for non-technical people, such as many of the patients. Therefor, it is difficult to explain how the model is predicting a risk score for a given patient, which could help the patient make a more informed decision. For this reason, CART could be used as an alternative model, because it is simple to explain."
   ]
  },
  {
   "cell_type": "code",
   "execution_count": null,
   "id": "429e0425",
   "metadata": {},
   "outputs": [],
   "source": []
  }
 ],
 "metadata": {
  "kernelspec": {
   "display_name": "Python 3 (ipykernel)",
   "language": "python",
   "name": "python3"
  },
  "language_info": {
   "codemirror_mode": {
    "name": "ipython",
    "version": 3
   },
   "file_extension": ".py",
   "mimetype": "text/x-python",
   "name": "python",
   "nbconvert_exporter": "python",
   "pygments_lexer": "ipython3",
   "version": "3.11.5"
  }
 },
 "nbformat": 4,
 "nbformat_minor": 5
}
